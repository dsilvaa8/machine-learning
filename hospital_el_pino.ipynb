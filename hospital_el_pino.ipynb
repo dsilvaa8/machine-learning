{
 "cells": [
  {
   "cell_type": "code",
   "execution_count": 1,
   "metadata": {},
   "outputs": [],
   "source": [
    "from sklearn import linear_model\n",
    "from sklearn import datasets ## Importa datasets de scikit-learn\n",
    "from sklearn.metrics import confusion_matrix, accuracy_score, recall_score, f1_score, precision_score, roc_auc_score\n",
    "import numpy as np\n",
    "import pandas as pd"
   ]
  },
  {
   "cell_type": "code",
   "execution_count": null,
   "metadata": {},
   "outputs": [],
   "source": [
    "from sklearn.preprocessing import LabelEncoder, OneHotEncoder\n",
    "#Cargar base de datos\n",
    "# define data usando Dataframe\n",
    "datos = pd.read_csv('p1_dataset_elpino_raw.csv', on_bad_lines='skip')\n",
    "df = pd.DataFrame(datos)\n",
    "#datos.head()\n",
    "#print(datos)\n",
    "#print(df.dtypes)\n",
    "#datos.fillna(value = 0)\n",
    "\n",
    "#Exited = 1 que el cliente se va del banco"
   ]
  },
  {
   "cell_type": "code",
   "execution_count": null,
   "metadata": {},
   "outputs": [],
   "source": [
    "\n",
    " \n",
    "##Ajuste de variables metodo label encoder\n",
    "from sklearn.preprocessing import LabelEncoder\n",
    "\n",
    "#Tranformar la variable Geography a categoría\n",
    "#Definimos France = 0, Germany = 1 y Spain = 2\n",
    "sex = LabelEncoder()\n",
    "X[:,1] = sex.fit_transform(X[:,1])"
   ]
  },
  {
   "cell_type": "markdown",
   "metadata": {},
   "source": []
  }
 ],
 "metadata": {
  "kernelspec": {
   "display_name": "Python 3",
   "language": "python",
   "name": "python3"
  },
  "language_info": {
   "codemirror_mode": {
    "name": "ipython",
    "version": 3
   },
   "file_extension": ".py",
   "mimetype": "text/x-python",
   "name": "python",
   "nbconvert_exporter": "python",
   "pygments_lexer": "ipython3",
   "version": "3.10.10"
  },
  "orig_nbformat": 4
 },
 "nbformat": 4,
 "nbformat_minor": 2
}
