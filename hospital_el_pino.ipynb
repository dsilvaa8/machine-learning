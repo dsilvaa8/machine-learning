{
  "cells": [
    {
      "cell_type": "code",
      "execution_count": null,
      "metadata": {
        "id": "9TLW_cB5yVjq"
      },
      "outputs": [],
      "source": [
        "#IMPORTS\n",
        "from sklearn import linear_model\n",
        "from sklearn.metrics import confusion_matrix, accuracy_score, recall_score, f1_score, precision_score, roc_auc_score\n",
        "from sklearn.metrics import roc_curve, auc\n",
        "import numpy as np\n",
        "import pandas as pd\n",
        "from sklearn.preprocessing import LabelEncoder, OneHotEncoder\n",
        "import re\n",
        "import matplotlib.pyplot as plt\n",
        "from sklearn.model_selection import *\n",
        "from keras.utils import *\n",
        "from sklearn.preprocessing import StandardScaler\n",
        "import tensorflow as tf"
      ]
    },
    {
      "cell_type": "markdown",
      "metadata": {
        "id": "d0sVCwPvclwd"
      },
      "source": [
        "Se carga el dataset"
      ]
    },
    {
      "cell_type": "code",
      "execution_count": null,
      "metadata": {
        "id": "verHNAgEzAGA"
      },
      "outputs": [],
      "source": [
        "#Cargar dataset\n",
        "\n",
        "datos= pd.read_csv('p1_dataset_elpino_raw.csv',sep=\";\")\n",
        "df = pd.DataFrame(datos)"
      ]
    },
    {
      "cell_type": "markdown",
      "metadata": {
        "id": "ct8CokdYc57c"
      },
      "source": [
        "Renombre de variables"
      ]
    },
    {
      "cell_type": "code",
      "execution_count": null,
      "metadata": {
        "id": "1qrCKJqWcysn",
        "colab": {
          "base_uri": "https://localhost:8080/"
        },
        "outputId": "5bdcd855-24e0-4fbf-9188-af8067e3adb9"
      },
      "outputs": [
        {
          "output_type": "stream",
          "name": "stdout",
          "text": [
            "Index(['Diag_principal', 'Diag2', 'Diag3', 'Diag4', 'Diag5', 'Diag6', 'Diag7',\n",
            "       'Diag8', 'Diag9', 'Diag10', 'Diag11', 'Diag12', 'Diag13', 'Diag14',\n",
            "       'Diag15', 'Diag16', 'Diag17', 'Diag18', 'Diag19', 'Diag20', 'Diag21',\n",
            "       'Diag22', 'Diag23', 'Diag24', 'Diag25', 'Diag26', 'Diag27', 'Diag28',\n",
            "       'Diag29', 'Diag30', 'Diag31', 'Diag32', 'Diag33', 'Diag34', 'Diag35',\n",
            "       'Proced_principal', 'Proced2', 'Proced3', 'Proced4', 'Proced5',\n",
            "       'Proced6', 'Proced7', 'Proced8', 'Proced9', 'Proced10', 'Proced11',\n",
            "       'Proced12', 'Proced13', 'Proced14', 'Proced15', 'Proced16', 'Proced17',\n",
            "       'Proced18', 'Proced19', 'Proced20', 'Proced21', 'Proced22', 'Proced23',\n",
            "       'Proced24', 'Proced25', 'Proced26', 'Proced27', 'Proced28', 'Proced29',\n",
            "       'Proced30', 'Edad', 'Sexo', 'GRD'],\n",
            "      dtype='object')\n"
          ]
        }
      ],
      "source": [
        "\n",
        "#RENOMBRAR DIAGNOSTICOS\n",
        "df = df.rename(columns={'Diag 01 Principal (cod+des)': 'Diag_principal'})\n",
        "column_names = df.columns[1:35].tolist()\n",
        "for i, col_name in enumerate(column_names):\n",
        "    new_name = f\"Diag{i+2}\"\n",
        "    df = df.rename(columns={col_name: new_name})\n",
        "\n",
        "\n",
        "#RENOMBRAR PROCEDIMIENTOS\n",
        "df = df.rename(columns={'Proced 01 Principal (cod+des)': 'Proced_principal'})\n",
        "column_names = df.columns[36:65].tolist()\n",
        "for i, col_name in enumerate(column_names):\n",
        "    new_name = f\"Proced{i+2}\"\n",
        "    df = df.rename(columns={col_name: new_name})\n",
        "\n",
        "df = df.rename(columns={'Edad en años': 'Edad'})\n",
        "df = df.rename(columns={'Sexo (Desc)': 'Sexo'})\n",
        "print(df.columns)\n",
        "\n"
      ]
    },
    {
      "cell_type": "markdown",
      "metadata": {
        "id": "UISq22h0c_A0"
      },
      "source": [
        "Limpiando las variables"
      ]
    },
    {
      "cell_type": "code",
      "execution_count": null,
      "metadata": {
        "id": "rxkX8GTEspGQ"
      },
      "outputs": [],
      "source": [
        "#SACAR EL TEXTO DE LAS VARIABLES\n",
        "\n",
        "#Definir una función para extraer los números de una cadena\n",
        "df = df.astype(str)\n",
        "\n",
        "# Funcion que extrae primera parte de un string\n",
        "def extraer_primera_parte(cadena):\n",
        "    return cadena.split()[0]\n",
        "    \n",
        "#EXTRAER NUMEROS DE PROCEDIMIENTOS\n",
        "df['Proced_principal'] = df['Proced_principal'].apply(extraer_primera_parte)\n",
        "\n",
        "indices = list(df.columns)\n",
        "columnas=indices[36:65]\n",
        "for col in columnas:\n",
        "    df[col] = df[col].apply(extraer_primera_parte)\n",
        "\n",
        "\n",
        "# Funcion que extrae primera parte de un string\n",
        "def extraer_primera_parte(cadena):\n",
        "    return cadena.split()[0]\n",
        "    \n",
        "#EXTRAER NUMEROS DE PROCEDIMIENTOS\n",
        "columnass=indices[:35]\n",
        "df['Diag_principal'] = df['Diag_principal'].apply(extraer_primera_parte)\n",
        "for col in columnass:\n",
        "    df[col] = df[col].apply(extraer_primera_parte)\n",
        "\n",
        "#EXTRAER NUMEROS DEL GRD\n",
        "df['GRD'] = df['GRD'].apply(extraer_primera_parte)\n",
        "\n",
        "#df.head()\n",
        "\n",
        "#Se pasa el sexo a numero binario\n",
        "X = df.iloc[: ,0:67].values\n",
        "sexo_le = LabelEncoder()\n",
        "df['Sexo'] = sexo_le.fit_transform(X[:,66])\n",
        "\n",
        "#SE SACA EL ULTIMO DIGITO DEL GRD\n",
        "df['GRD'] = df['GRD'].astype(str).str[:-1]\n",
        "\n",
        "\n",
        "#PASAR A FLOAT LOS PROCEDIMIENTOS Y REEMPLAZAR LOS GUIONES POR 0. TAMBIEN LA EDAD COMO ENTERO\n",
        "for col in columnas:\n",
        "  df[col] = df[col].replace('-', '0')\n",
        "  df[col] = df[col].astype(np.float32)\n",
        "df['Edad'] = df['Edad'].astype(np.int32)\n",
        "\n",
        "#SEXO Y GRD A CATEGORICAL\n",
        "df['GRD'] = pd.Categorical(df['GRD'])\n",
        "df['Sexo'] = pd.Categorical(df['Sexo'])\n",
        "\n",
        "cols= df.columns[35:65]\n",
        "for col in cols:\n",
        "  df[col] = df[col].astype(np.float32)\n",
        "  #df[col] = round(df[col],2)\n",
        "\n",
        "\n",
        "#df.info()\n"
      ]
    },
    {
      "cell_type": "markdown",
      "metadata": {
        "id": "tO_iJrOf9EHa"
      },
      "source": [
        "Label Encoding"
      ]
    },
    {
      "cell_type": "code",
      "execution_count": null,
      "metadata": {
        "id": "2VDkevsI9D3m",
        "colab": {
          "base_uri": "https://localhost:8080/",
          "height": 487
        },
        "outputId": "3daa5aaa-4663-4e1f-aed0-53839489560c"
      },
      "outputs": [
        {
          "output_type": "execute_result",
          "data": {
            "text/plain": [
              "       Diag_principal  Diag2  Diag3  Diag4  Diag5  Diag6  Diag7  Diag8  Diag9  \\\n",
              "0                  24     44    380    654     38    471    393     26      6   \n",
              "1                1450    527   1032    905    812    847    706    297    265   \n",
              "2                 623   1200   1068    463    997    337    660     23     31   \n",
              "3                 670    689    724    120    172    152    322    414    256   \n",
              "4                1427   1611   1121    982    942    370    298    578    499   \n",
              "...               ...    ...    ...    ...    ...    ...    ...    ...    ...   \n",
              "14556             196    571    218    221   1117      0      0      0      0   \n",
              "14557            1239   1448   1064      0      0      0      0      0      0   \n",
              "14558             704    394    161    378    443    478    201    750      0   \n",
              "14559             222    394   1481      0      0      0      0      0      0   \n",
              "14560            1231   1238   1273    462     83    879    707      0      0   \n",
              "\n",
              "       Diag10  ...   Proced24   Proced25   Proced26   Proced27   Proced28  \\\n",
              "0         244  ...  99.839996  88.720001  90.419998  90.519997  91.389999   \n",
              "1         246  ...  91.620003  90.430000  91.389999  90.519997  91.320000   \n",
              "2           9  ...  99.839996  91.730003  90.529999  99.260002  89.389999   \n",
              "3         418  ...  57.939999   0.130000   0.170000  99.040001  99.180000   \n",
              "4         354  ...  90.519997  91.389999  91.320000  93.900002  99.150002   \n",
              "...       ...  ...        ...        ...        ...        ...        ...   \n",
              "14556       0  ...   0.000000   0.000000   0.000000   0.000000   0.000000   \n",
              "14557       0  ...   0.000000   0.000000   0.000000   0.000000   0.000000   \n",
              "14558       0  ...   0.000000   0.000000   0.000000   0.000000   0.000000   \n",
              "14559       0  ...   0.000000   0.000000   0.000000   0.000000   0.000000   \n",
              "14560       0  ...  89.660004  89.660004  90.389999  90.419998  90.519997   \n",
              "\n",
              "        Proced29   Proced30  Edad  Sexo    GRD  \n",
              "0      91.330002  87.029999    40     0  18410  \n",
              "1      96.589996  90.989998    53     0  04101  \n",
              "2      89.660004  89.650002    65     0  04101  \n",
              "3      99.209999  99.230003    61     0  04102  \n",
              "4      96.589996  45.130001    30     0  04102  \n",
              "...          ...        ...   ...   ...    ...  \n",
              "14556   0.000000   0.000000    26     1  10410  \n",
              "14557   0.000000   0.000000    10     0  01424  \n",
              "14558   0.000000   0.000000    58     0  06418  \n",
              "14559   0.000000   0.000000    47     0  10412  \n",
              "14560  90.589996  90.589996    73     0  04120  \n",
              "\n",
              "[14561 rows x 68 columns]"
            ],
            "text/html": [
              "\n",
              "  <div id=\"df-c2f6590a-bad1-4e68-aa0e-c2cac9fd1493\">\n",
              "    <div class=\"colab-df-container\">\n",
              "      <div>\n",
              "<style scoped>\n",
              "    .dataframe tbody tr th:only-of-type {\n",
              "        vertical-align: middle;\n",
              "    }\n",
              "\n",
              "    .dataframe tbody tr th {\n",
              "        vertical-align: top;\n",
              "    }\n",
              "\n",
              "    .dataframe thead th {\n",
              "        text-align: right;\n",
              "    }\n",
              "</style>\n",
              "<table border=\"1\" class=\"dataframe\">\n",
              "  <thead>\n",
              "    <tr style=\"text-align: right;\">\n",
              "      <th></th>\n",
              "      <th>Diag_principal</th>\n",
              "      <th>Diag2</th>\n",
              "      <th>Diag3</th>\n",
              "      <th>Diag4</th>\n",
              "      <th>Diag5</th>\n",
              "      <th>Diag6</th>\n",
              "      <th>Diag7</th>\n",
              "      <th>Diag8</th>\n",
              "      <th>Diag9</th>\n",
              "      <th>Diag10</th>\n",
              "      <th>...</th>\n",
              "      <th>Proced24</th>\n",
              "      <th>Proced25</th>\n",
              "      <th>Proced26</th>\n",
              "      <th>Proced27</th>\n",
              "      <th>Proced28</th>\n",
              "      <th>Proced29</th>\n",
              "      <th>Proced30</th>\n",
              "      <th>Edad</th>\n",
              "      <th>Sexo</th>\n",
              "      <th>GRD</th>\n",
              "    </tr>\n",
              "  </thead>\n",
              "  <tbody>\n",
              "    <tr>\n",
              "      <th>0</th>\n",
              "      <td>24</td>\n",
              "      <td>44</td>\n",
              "      <td>380</td>\n",
              "      <td>654</td>\n",
              "      <td>38</td>\n",
              "      <td>471</td>\n",
              "      <td>393</td>\n",
              "      <td>26</td>\n",
              "      <td>6</td>\n",
              "      <td>244</td>\n",
              "      <td>...</td>\n",
              "      <td>99.839996</td>\n",
              "      <td>88.720001</td>\n",
              "      <td>90.419998</td>\n",
              "      <td>90.519997</td>\n",
              "      <td>91.389999</td>\n",
              "      <td>91.330002</td>\n",
              "      <td>87.029999</td>\n",
              "      <td>40</td>\n",
              "      <td>0</td>\n",
              "      <td>18410</td>\n",
              "    </tr>\n",
              "    <tr>\n",
              "      <th>1</th>\n",
              "      <td>1450</td>\n",
              "      <td>527</td>\n",
              "      <td>1032</td>\n",
              "      <td>905</td>\n",
              "      <td>812</td>\n",
              "      <td>847</td>\n",
              "      <td>706</td>\n",
              "      <td>297</td>\n",
              "      <td>265</td>\n",
              "      <td>246</td>\n",
              "      <td>...</td>\n",
              "      <td>91.620003</td>\n",
              "      <td>90.430000</td>\n",
              "      <td>91.389999</td>\n",
              "      <td>90.519997</td>\n",
              "      <td>91.320000</td>\n",
              "      <td>96.589996</td>\n",
              "      <td>90.989998</td>\n",
              "      <td>53</td>\n",
              "      <td>0</td>\n",
              "      <td>04101</td>\n",
              "    </tr>\n",
              "    <tr>\n",
              "      <th>2</th>\n",
              "      <td>623</td>\n",
              "      <td>1200</td>\n",
              "      <td>1068</td>\n",
              "      <td>463</td>\n",
              "      <td>997</td>\n",
              "      <td>337</td>\n",
              "      <td>660</td>\n",
              "      <td>23</td>\n",
              "      <td>31</td>\n",
              "      <td>9</td>\n",
              "      <td>...</td>\n",
              "      <td>99.839996</td>\n",
              "      <td>91.730003</td>\n",
              "      <td>90.529999</td>\n",
              "      <td>99.260002</td>\n",
              "      <td>89.389999</td>\n",
              "      <td>89.660004</td>\n",
              "      <td>89.650002</td>\n",
              "      <td>65</td>\n",
              "      <td>0</td>\n",
              "      <td>04101</td>\n",
              "    </tr>\n",
              "    <tr>\n",
              "      <th>3</th>\n",
              "      <td>670</td>\n",
              "      <td>689</td>\n",
              "      <td>724</td>\n",
              "      <td>120</td>\n",
              "      <td>172</td>\n",
              "      <td>152</td>\n",
              "      <td>322</td>\n",
              "      <td>414</td>\n",
              "      <td>256</td>\n",
              "      <td>418</td>\n",
              "      <td>...</td>\n",
              "      <td>57.939999</td>\n",
              "      <td>0.130000</td>\n",
              "      <td>0.170000</td>\n",
              "      <td>99.040001</td>\n",
              "      <td>99.180000</td>\n",
              "      <td>99.209999</td>\n",
              "      <td>99.230003</td>\n",
              "      <td>61</td>\n",
              "      <td>0</td>\n",
              "      <td>04102</td>\n",
              "    </tr>\n",
              "    <tr>\n",
              "      <th>4</th>\n",
              "      <td>1427</td>\n",
              "      <td>1611</td>\n",
              "      <td>1121</td>\n",
              "      <td>982</td>\n",
              "      <td>942</td>\n",
              "      <td>370</td>\n",
              "      <td>298</td>\n",
              "      <td>578</td>\n",
              "      <td>499</td>\n",
              "      <td>354</td>\n",
              "      <td>...</td>\n",
              "      <td>90.519997</td>\n",
              "      <td>91.389999</td>\n",
              "      <td>91.320000</td>\n",
              "      <td>93.900002</td>\n",
              "      <td>99.150002</td>\n",
              "      <td>96.589996</td>\n",
              "      <td>45.130001</td>\n",
              "      <td>30</td>\n",
              "      <td>0</td>\n",
              "      <td>04102</td>\n",
              "    </tr>\n",
              "    <tr>\n",
              "      <th>...</th>\n",
              "      <td>...</td>\n",
              "      <td>...</td>\n",
              "      <td>...</td>\n",
              "      <td>...</td>\n",
              "      <td>...</td>\n",
              "      <td>...</td>\n",
              "      <td>...</td>\n",
              "      <td>...</td>\n",
              "      <td>...</td>\n",
              "      <td>...</td>\n",
              "      <td>...</td>\n",
              "      <td>...</td>\n",
              "      <td>...</td>\n",
              "      <td>...</td>\n",
              "      <td>...</td>\n",
              "      <td>...</td>\n",
              "      <td>...</td>\n",
              "      <td>...</td>\n",
              "      <td>...</td>\n",
              "      <td>...</td>\n",
              "      <td>...</td>\n",
              "    </tr>\n",
              "    <tr>\n",
              "      <th>14556</th>\n",
              "      <td>196</td>\n",
              "      <td>571</td>\n",
              "      <td>218</td>\n",
              "      <td>221</td>\n",
              "      <td>1117</td>\n",
              "      <td>0</td>\n",
              "      <td>0</td>\n",
              "      <td>0</td>\n",
              "      <td>0</td>\n",
              "      <td>0</td>\n",
              "      <td>...</td>\n",
              "      <td>0.000000</td>\n",
              "      <td>0.000000</td>\n",
              "      <td>0.000000</td>\n",
              "      <td>0.000000</td>\n",
              "      <td>0.000000</td>\n",
              "      <td>0.000000</td>\n",
              "      <td>0.000000</td>\n",
              "      <td>26</td>\n",
              "      <td>1</td>\n",
              "      <td>10410</td>\n",
              "    </tr>\n",
              "    <tr>\n",
              "      <th>14557</th>\n",
              "      <td>1239</td>\n",
              "      <td>1448</td>\n",
              "      <td>1064</td>\n",
              "      <td>0</td>\n",
              "      <td>0</td>\n",
              "      <td>0</td>\n",
              "      <td>0</td>\n",
              "      <td>0</td>\n",
              "      <td>0</td>\n",
              "      <td>0</td>\n",
              "      <td>...</td>\n",
              "      <td>0.000000</td>\n",
              "      <td>0.000000</td>\n",
              "      <td>0.000000</td>\n",
              "      <td>0.000000</td>\n",
              "      <td>0.000000</td>\n",
              "      <td>0.000000</td>\n",
              "      <td>0.000000</td>\n",
              "      <td>10</td>\n",
              "      <td>0</td>\n",
              "      <td>01424</td>\n",
              "    </tr>\n",
              "    <tr>\n",
              "      <th>14558</th>\n",
              "      <td>704</td>\n",
              "      <td>394</td>\n",
              "      <td>161</td>\n",
              "      <td>378</td>\n",
              "      <td>443</td>\n",
              "      <td>478</td>\n",
              "      <td>201</td>\n",
              "      <td>750</td>\n",
              "      <td>0</td>\n",
              "      <td>0</td>\n",
              "      <td>...</td>\n",
              "      <td>0.000000</td>\n",
              "      <td>0.000000</td>\n",
              "      <td>0.000000</td>\n",
              "      <td>0.000000</td>\n",
              "      <td>0.000000</td>\n",
              "      <td>0.000000</td>\n",
              "      <td>0.000000</td>\n",
              "      <td>58</td>\n",
              "      <td>0</td>\n",
              "      <td>06418</td>\n",
              "    </tr>\n",
              "    <tr>\n",
              "      <th>14559</th>\n",
              "      <td>222</td>\n",
              "      <td>394</td>\n",
              "      <td>1481</td>\n",
              "      <td>0</td>\n",
              "      <td>0</td>\n",
              "      <td>0</td>\n",
              "      <td>0</td>\n",
              "      <td>0</td>\n",
              "      <td>0</td>\n",
              "      <td>0</td>\n",
              "      <td>...</td>\n",
              "      <td>0.000000</td>\n",
              "      <td>0.000000</td>\n",
              "      <td>0.000000</td>\n",
              "      <td>0.000000</td>\n",
              "      <td>0.000000</td>\n",
              "      <td>0.000000</td>\n",
              "      <td>0.000000</td>\n",
              "      <td>47</td>\n",
              "      <td>0</td>\n",
              "      <td>10412</td>\n",
              "    </tr>\n",
              "    <tr>\n",
              "      <th>14560</th>\n",
              "      <td>1231</td>\n",
              "      <td>1238</td>\n",
              "      <td>1273</td>\n",
              "      <td>462</td>\n",
              "      <td>83</td>\n",
              "      <td>879</td>\n",
              "      <td>707</td>\n",
              "      <td>0</td>\n",
              "      <td>0</td>\n",
              "      <td>0</td>\n",
              "      <td>...</td>\n",
              "      <td>89.660004</td>\n",
              "      <td>89.660004</td>\n",
              "      <td>90.389999</td>\n",
              "      <td>90.419998</td>\n",
              "      <td>90.519997</td>\n",
              "      <td>90.589996</td>\n",
              "      <td>90.589996</td>\n",
              "      <td>73</td>\n",
              "      <td>0</td>\n",
              "      <td>04120</td>\n",
              "    </tr>\n",
              "  </tbody>\n",
              "</table>\n",
              "<p>14561 rows × 68 columns</p>\n",
              "</div>\n",
              "      <button class=\"colab-df-convert\" onclick=\"convertToInteractive('df-c2f6590a-bad1-4e68-aa0e-c2cac9fd1493')\"\n",
              "              title=\"Convert this dataframe to an interactive table.\"\n",
              "              style=\"display:none;\">\n",
              "        \n",
              "  <svg xmlns=\"http://www.w3.org/2000/svg\" height=\"24px\"viewBox=\"0 0 24 24\"\n",
              "       width=\"24px\">\n",
              "    <path d=\"M0 0h24v24H0V0z\" fill=\"none\"/>\n",
              "    <path d=\"M18.56 5.44l.94 2.06.94-2.06 2.06-.94-2.06-.94-.94-2.06-.94 2.06-2.06.94zm-11 1L8.5 8.5l.94-2.06 2.06-.94-2.06-.94L8.5 2.5l-.94 2.06-2.06.94zm10 10l.94 2.06.94-2.06 2.06-.94-2.06-.94-.94-2.06-.94 2.06-2.06.94z\"/><path d=\"M17.41 7.96l-1.37-1.37c-.4-.4-.92-.59-1.43-.59-.52 0-1.04.2-1.43.59L10.3 9.45l-7.72 7.72c-.78.78-.78 2.05 0 2.83L4 21.41c.39.39.9.59 1.41.59.51 0 1.02-.2 1.41-.59l7.78-7.78 2.81-2.81c.8-.78.8-2.07 0-2.86zM5.41 20L4 18.59l7.72-7.72 1.47 1.35L5.41 20z\"/>\n",
              "  </svg>\n",
              "      </button>\n",
              "      \n",
              "  <style>\n",
              "    .colab-df-container {\n",
              "      display:flex;\n",
              "      flex-wrap:wrap;\n",
              "      gap: 12px;\n",
              "    }\n",
              "\n",
              "    .colab-df-convert {\n",
              "      background-color: #E8F0FE;\n",
              "      border: none;\n",
              "      border-radius: 50%;\n",
              "      cursor: pointer;\n",
              "      display: none;\n",
              "      fill: #1967D2;\n",
              "      height: 32px;\n",
              "      padding: 0 0 0 0;\n",
              "      width: 32px;\n",
              "    }\n",
              "\n",
              "    .colab-df-convert:hover {\n",
              "      background-color: #E2EBFA;\n",
              "      box-shadow: 0px 1px 2px rgba(60, 64, 67, 0.3), 0px 1px 3px 1px rgba(60, 64, 67, 0.15);\n",
              "      fill: #174EA6;\n",
              "    }\n",
              "\n",
              "    [theme=dark] .colab-df-convert {\n",
              "      background-color: #3B4455;\n",
              "      fill: #D2E3FC;\n",
              "    }\n",
              "\n",
              "    [theme=dark] .colab-df-convert:hover {\n",
              "      background-color: #434B5C;\n",
              "      box-shadow: 0px 1px 3px 1px rgba(0, 0, 0, 0.15);\n",
              "      filter: drop-shadow(0px 1px 2px rgba(0, 0, 0, 0.3));\n",
              "      fill: #FFFFFF;\n",
              "    }\n",
              "  </style>\n",
              "\n",
              "      <script>\n",
              "        const buttonEl =\n",
              "          document.querySelector('#df-c2f6590a-bad1-4e68-aa0e-c2cac9fd1493 button.colab-df-convert');\n",
              "        buttonEl.style.display =\n",
              "          google.colab.kernel.accessAllowed ? 'block' : 'none';\n",
              "\n",
              "        async function convertToInteractive(key) {\n",
              "          const element = document.querySelector('#df-c2f6590a-bad1-4e68-aa0e-c2cac9fd1493');\n",
              "          const dataTable =\n",
              "            await google.colab.kernel.invokeFunction('convertToInteractive',\n",
              "                                                     [key], {});\n",
              "          if (!dataTable) return;\n",
              "\n",
              "          const docLinkHtml = 'Like what you see? Visit the ' +\n",
              "            '<a target=\"_blank\" href=https://colab.research.google.com/notebooks/data_table.ipynb>data table notebook</a>'\n",
              "            + ' to learn more about interactive tables.';\n",
              "          element.innerHTML = '';\n",
              "          dataTable['output_type'] = 'display_data';\n",
              "          await google.colab.output.renderOutput(dataTable, element);\n",
              "          const docLink = document.createElement('div');\n",
              "          docLink.innerHTML = docLinkHtml;\n",
              "          element.appendChild(docLink);\n",
              "        }\n",
              "      </script>\n",
              "    </div>\n",
              "  </div>\n",
              "  "
            ]
          },
          "metadata": {},
          "execution_count": 5
        }
      ],
      "source": [
        "from sklearn.preprocessing import LabelEncoder\n",
        "# Crear una instancia de LabelEncoder\n",
        "\n",
        "le = LabelEncoder()\n",
        "col = df.columns[0:35]\n",
        "\n",
        "for c in col:\n",
        "  df[c] = le.fit_transform(df[c])\n",
        "\n",
        "df"
      ]
    },
    {
      "cell_type": "markdown",
      "source": [
        "Análisis descriptivo"
      ],
      "metadata": {
        "id": "j9Xc3fTXrE0T"
      }
    },
    {
      "cell_type": "code",
      "execution_count": null,
      "metadata": {
        "id": "61aCGLx7ueLt",
        "colab": {
          "base_uri": "https://localhost:8080/",
          "height": 586
        },
        "outputId": "d41ac415-88e7-4e2e-c808-879054dfe6a3"
      },
      "outputs": [
        {
          "output_type": "display_data",
          "data": {
            "text/plain": [
              "<Figure size 640x480 with 1 Axes>"
            ],
            "image/png": "[encoded data removed]"
          },
          "metadata": {}
        },
        {
          "output_type": "execute_result",
          "data": {
            "text/plain": [
              "count    14561.000000\n",
              "mean        39.426550\n",
              "std         24.681545\n",
              "min          0.000000\n",
              "25%         23.000000\n",
              "50%         36.000000\n",
              "75%         60.000000\n",
              "max        121.000000\n",
              "Name: Edad, dtype: float64"
            ]
          },
          "metadata": {},
          "execution_count": 6
        }
      ],
      "source": [
        "#EDAD\n",
        "\n",
        "df.boxplot(column=['Edad'])\n",
        "plt.show()\n",
        "df['Edad'].describe()"
      ]
    },
    {
      "cell_type": "code",
      "source": [
        "#SEXO\n",
        "sexo_counts = df['Sexo'].value_counts()\n",
        "sexo_counts.plot(kind='bar')\n",
        "plt.xlabel('Sexo')\n",
        "plt.ylabel('Número de personas')\n",
        "plt.title('Distribución de sexos en la muestra')\n",
        "\n",
        "# mostrar el gráfico\n",
        "plt.show()\n",
        "\n",
        "\n",
        "df['Sexo'].describe()\n"
      ],
      "metadata": {
        "id": "WfGUYf55rJZ8",
        "colab": {
          "base_uri": "https://localhost:8080/",
          "height": 554
        },
        "outputId": "9524ed26-b981-4d6c-f640-7f5639462794"
      },
      "execution_count": null,
      "outputs": [
        {
          "output_type": "display_data",
          "data": {
            "text/plain": [
              "<Figure size 640x480 with 1 Axes>"
            ],
            "image/png": "[encoded data removed]"
          },
          "metadata": {}
        },
        {
          "output_type": "execute_result",
          "data": {
            "text/plain": [
              "count     14561\n",
              "unique        2\n",
              "top           1\n",
              "freq       9617\n",
              "Name: Sexo, dtype: int64"
            ]
          },
          "metadata": {},
          "execution_count": 7
        }
      ]
    },
    {
      "cell_type": "code",
      "source": [
        "#GRD\n",
        "df['GRD'].describe()"
      ],
      "metadata": {
        "id": "cyLRcIfb4omd",
        "colab": {
          "base_uri": "https://localhost:8080/"
        },
        "outputId": "92980c55-b6bf-4169-f1cd-74e696c9090d"
      },
      "execution_count": null,
      "outputs": [
        {
          "output_type": "execute_result",
          "data": {
            "text/plain": [
              "count     14561\n",
              "unique      210\n",
              "top       14610\n",
              "freq       1220\n",
              "Name: GRD, dtype: object"
            ]
          },
          "metadata": {},
          "execution_count": 8
        }
      ]
    },
    {
      "cell_type": "code",
      "source": [
        "#PROCED PRINCIPAL\n",
        "df['Proced_principal'].describe()"
      ],
      "metadata": {
        "id": "uJMHkGiP9BlR",
        "colab": {
          "base_uri": "https://localhost:8080/"
        },
        "outputId": "989b1960-09ba-4209-9aa6-647f17c163d7"
      },
      "execution_count": null,
      "outputs": [
        {
          "output_type": "execute_result",
          "data": {
            "text/plain": [
              "count    14561.000000\n",
              "mean        77.308815\n",
              "std         16.450047\n",
              "min          0.140000\n",
              "25%         73.589996\n",
              "50%         87.029999\n",
              "75%         88.430000\n",
              "max         99.980003\n",
              "Name: Proced_principal, dtype: float64"
            ]
          },
          "metadata": {},
          "execution_count": 9
        }
      ]
    },
    {
      "cell_type": "code",
      "source": [
        "#DIAG PRINCIPAL\n",
        "df['Diag_principal'].describe()\n"
      ],
      "metadata": {
        "id": "xSqsr2xT7VbF",
        "colab": {
          "base_uri": "https://localhost:8080/"
        },
        "outputId": "1146c255-3a2a-49f4-9074-c50ecbd7ee79"
      },
      "execution_count": null,
      "outputs": [
        {
          "output_type": "execute_result",
          "data": {
            "text/plain": [
              "count    14561.000000\n",
              "mean       761.643500\n",
              "std        371.264673\n",
              "min          0.000000\n",
              "25%        497.000000\n",
              "50%        788.000000\n",
              "75%       1007.000000\n",
              "max       1490.000000\n",
              "Name: Diag_principal, dtype: float64"
            ]
          },
          "metadata": {},
          "execution_count": 10
        }
      ]
    },
    {
      "cell_type": "markdown",
      "metadata": {
        "id": "NiOiOyEBuiRi"
      },
      "source": [
        "Correlación entre variables"
      ]
    },
    {
      "cell_type": "code",
      "execution_count": null,
      "metadata": {
        "id": "MuBGGSHl1dUe",
        "colab": {
          "base_uri": "https://localhost:8080/"
        },
        "outputId": "3cea4142-f93f-4a26-8cd8-37d363f15be1"
      },
      "outputs": [
        {
          "output_type": "execute_result",
          "data": {
            "text/plain": [
              "Index(['Diag_principal', 'Diag2', 'Diag3', 'Diag4', 'Diag5', 'Diag6', 'Diag7',\n",
              "       'Diag8', 'Diag9', 'Diag10', 'Diag11', 'Diag12', 'Diag13', 'Diag14',\n",
              "       'Diag15', 'Proced_principal', 'Proced2', 'Proced3', 'Proced4',\n",
              "       'Proced5', 'Proced6', 'Proced7', 'Proced8', 'Proced9', 'Proced10',\n",
              "       'Proced11', 'Proced12', 'Proced13', 'Proced14', 'Proced15', 'Edad',\n",
              "       'Sexo', 'GRD'],\n",
              "      dtype='object')"
            ]
          },
          "metadata": {},
          "execution_count": 11
        }
      ],
      "source": [
        "#Eliminamos las columnas con baja correlación\n",
        "\n",
        "df1 = df.iloc[:, list(range(15)) + list(range(35, 50)) + list(range(65, 68))]\n",
        "\n",
        "df1.columns"
      ]
    },
    {
      "cell_type": "code",
      "source": [
        "df1.info()"
      ],
      "metadata": {
        "id": "jt9h21W_syvL",
        "colab": {
          "base_uri": "https://localhost:8080/"
        },
        "outputId": "417edf86-2b8c-4de4-f163-8ee8c845492f"
      },
      "execution_count": null,
      "outputs": [
        {
          "output_type": "stream",
          "name": "stdout",
          "text": [
            "<class 'pandas.core.frame.DataFrame'>\n",
            "RangeIndex: 14561 entries, 0 to 14560\n",
            "Data columns (total 33 columns):\n",
            " #   Column            Non-Null Count  Dtype   \n",
            "---  ------            --------------  -----   \n",
            " 0   Diag_principal    14561 non-null  int64   \n",
            " 1   Diag2             14561 non-null  int64   \n",
            " 2   Diag3             14561 non-null  int64   \n",
            " 3   Diag4             14561 non-null  int64   \n",
            " 4   Diag5             14561 non-null  int64   \n",
            " 5   Diag6             14561 non-null  int64   \n",
            " 6   Diag7             14561 non-null  int64   \n",
            " 7   Diag8             14561 non-null  int64   \n",
            " 8   Diag9             14561 non-null  int64   \n",
            " 9   Diag10            14561 non-null  int64   \n",
            " 10  Diag11            14561 non-null  int64   \n",
            " 11  Diag12            14561 non-null  int64   \n",
            " 12  Diag13            14561 non-null  int64   \n",
            " 13  Diag14            14561 non-null  int64   \n",
            " 14  Diag15            14561 non-null  int64   \n",
            " 15  Proced_principal  14561 non-null  float32 \n",
            " 16  Proced2           14561 non-null  float32 \n",
            " 17  Proced3           14561 non-null  float32 \n",
            " 18  Proced4           14561 non-null  float32 \n",
            " 19  Proced5           14561 non-null  float32 \n",
            " 20  Proced6           14561 non-null  float32 \n",
            " 21  Proced7           14561 non-null  float32 \n",
            " 22  Proced8           14561 non-null  float32 \n",
            " 23  Proced9           14561 non-null  float32 \n",
            " 24  Proced10          14561 non-null  float32 \n",
            " 25  Proced11          14561 non-null  float32 \n",
            " 26  Proced12          14561 non-null  float32 \n",
            " 27  Proced13          14561 non-null  float32 \n",
            " 28  Proced14          14561 non-null  float32 \n",
            " 29  Proced15          14561 non-null  float32 \n",
            " 30  Edad              14561 non-null  int32   \n",
            " 31  Sexo              14561 non-null  category\n",
            " 32  GRD               14561 non-null  category\n",
            "dtypes: category(2), float32(15), int32(1), int64(15)\n",
            "memory usage: 2.6 MB\n"
          ]
        }
      ]
    },
    {
      "cell_type": "markdown",
      "metadata": {
        "id": "GeiHoe8p9Gov"
      },
      "source": [
        "Partición de Datos"
      ]
    },
    {
      "cell_type": "code",
      "execution_count": null,
      "metadata": {
        "id": "InUwhP1Ix0XO"
      },
      "outputs": [],
      "source": [
        "X = df1.iloc[:, :-1]\n",
        "y = df1.iloc[:, -1]\n",
        "\n",
        "Xtrain, Xtest, Ytrain, Ytest = train_test_split(X, y, test_size=0.2, random_state=42)\n",
        "Xtrain, Xval, Ytrain, Yval = train_test_split(Xtrain, Ytrain, test_size=0.25, random_state=42)\n",
        "\n",
        "# Escalar características\n",
        "scaler = StandardScaler()\n",
        "Xtrain = scaler.fit_transform(Xtrain)\n",
        "Xval = scaler.transform(Xval)\n",
        "Xtest = scaler.transform(Xtest)"
      ]
    },
    {
      "cell_type": "markdown",
      "metadata": {
        "id": "ld981XjEnMNe"
      },
      "source": [
        "Balanceo de datos"
      ]
    },
    {
      "cell_type": "code",
      "execution_count": null,
      "metadata": {
        "id": "yune25V-9IsL",
        "colab": {
          "base_uri": "https://localhost:8080/"
        },
        "outputId": "b481f0ec-3070-4214-87c3-c4a35c75a7cd"
      },
      "outputs": [
        {
          "output_type": "stream",
          "name": "stdout",
          "text": [
            "Desbalanceo de datos en la columna GRD\n",
            "\n",
            "(14561, 33)\n",
            "14610    1220\n",
            "14612     927\n",
            "14613     741\n",
            "07114     501\n",
            "13416     458\n",
            "         ... \n",
            "08420       1\n",
            "10110       1\n",
            "10120       1\n",
            "12111       1\n",
            "01120       1\n",
            "Name: GRD, Length: 210, dtype: int64\n",
            "\n",
            "Desbalanceo de datos en la columna Diag_principal\n",
            "\n",
            "(14561, 33)\n",
            "1007    779\n",
            "1028    471\n",
            "1450    327\n",
            "942     304\n",
            "202     215\n",
            "       ... \n",
            "176       1\n",
            "1488      1\n",
            "348       1\n",
            "469       1\n",
            "1087      1\n",
            "Name: Diag_principal, Length: 1491, dtype: int64\n",
            "0.000000     10111\n",
            "89.699997      348\n",
            "93.820000      216\n",
            "93.180000      189\n",
            "93.010002      174\n",
            "             ...  \n",
            "46.709999        1\n",
            "23.090000        1\n",
            "88.430000        1\n",
            "93.540001        1\n",
            "90.010002        1\n",
            "Name: Proced15, Length: 155, dtype: int64\n"
          ]
        }
      ],
      "source": [
        "#Verificamos el desbalanceo de datos en la columna GRD\n",
        "print(\"Desbalanceo de datos en la columna GRD\\n\")\n",
        "print(df1.shape)\n",
        "print(pd.value_counts(df1['GRD'], sort = True))\n",
        "\n",
        "print(\"\\nDesbalanceo de datos en la columna Diag_principal\\n\")\n",
        "print(df1.shape)\n",
        "print(pd.value_counts(df1['Diag_principal'], sort = True))\n",
        "\n",
        "print(pd.value_counts(df1['Proced15'], sort = True))\n"
      ]
    },
    {
      "cell_type": "code",
      "source": [
        "from imblearn.over_sampling import RandomOverSampler\n",
        "from sklearn.datasets import make_classification\n",
        "\n",
        "# crear una instancia de RandomOverSampler\n",
        "ros = RandomOverSampler(random_state=0)\n",
        "\n",
        "# aplicar oversampling a los datos\n",
        "Xtrain_B, Ytrain_B = ros.fit_resample(Xtrain, Ytrain)\n",
        "print(f\"Tamaño de los datos antes de oversampling: {Xtrain.shape}\")\n",
        "print(f\"Tamaño de los datos después de oversampling: {Xtrain_B.shape}\")"
      ],
      "metadata": {
        "id": "zJ4VX01Dz7bV",
        "colab": {
          "base_uri": "https://localhost:8080/"
        },
        "outputId": "e3a79385-2316-416d-fe41-bdea200f8ca0"
      },
      "execution_count": null,
      "outputs": [
        {
          "output_type": "stream",
          "name": "stdout",
          "text": [
            "Tamaño de los datos antes de oversampling: (8736, 32)\n",
            "Tamaño de los datos después de oversampling: (152096, 32)\n"
          ]
        }
      ]
    },
    {
      "cell_type": "code",
      "execution_count": null,
      "metadata": {
        "id": "JARdNaZ7G4WK",
        "colab": {
          "base_uri": "https://localhost:8080/"
        },
        "outputId": "214e01b1-2858-47d6-f9a5-60487dd4071c"
      },
      "outputs": [
        {
          "output_type": "stream",
          "name": "stderr",
          "text": [
            "<ipython-input-16-8bd882038b63>:7: SettingWithCopyWarning: \n",
            "A value is trying to be set on a copy of a slice from a DataFrame.\n",
            "Try using .loc[row_indexer,col_indexer] = value instead\n",
            "\n",
            "See the caveats in the documentation: https://pandas.pydata.org/pandas-docs/stable/user_guide/indexing.html#returning-a-view-versus-a-copy\n",
            "  df1[col] = df1[col].astype(np.int64)\n",
            "<ipython-input-16-8bd882038b63>:12: SettingWithCopyWarning: \n",
            "A value is trying to be set on a copy of a slice from a DataFrame.\n",
            "Try using .loc[row_indexer,col_indexer] = value instead\n",
            "\n",
            "See the caveats in the documentation: https://pandas.pydata.org/pandas-docs/stable/user_guide/indexing.html#returning-a-view-versus-a-copy\n",
            "  df1[col] = df1[col].astype(np.int64)\n",
            "<ipython-input-16-8bd882038b63>:15: SettingWithCopyWarning: \n",
            "A value is trying to be set on a copy of a slice from a DataFrame.\n",
            "Try using .loc[row_indexer,col_indexer] = value instead\n",
            "\n",
            "See the caveats in the documentation: https://pandas.pydata.org/pandas-docs/stable/user_guide/indexing.html#returning-a-view-versus-a-copy\n",
            "  df1['GRD'] = pd.Categorical(df1['GRD'])\n"
          ]
        }
      ],
      "source": [
        "#Edad y sexo a Int32\n",
        "# df1['Edad'] = df1['Edad'].astype(np.int64)\n",
        "\n",
        "#Diagnosticos a Int32\n",
        "c= df1.columns[0:15]\n",
        "for col in c:\n",
        "  df1[col] = df1[col].astype(np.int64)\n",
        "\n",
        "#Procedimientos a Int32\n",
        "cols= df1.columns[15:30]\n",
        "for col in cols:\n",
        "  df1[col] = df1[col].astype(np.int64)\n",
        "\n",
        "# #Transformar el GRD a categorical\n",
        "df1['GRD'] = pd.Categorical(df1['GRD'])\n"
      ]
    },
    {
      "cell_type": "code",
      "execution_count": null,
      "metadata": {
        "id": "YlGgFA1_QgWR",
        "colab": {
          "base_uri": "https://localhost:8080/"
        },
        "outputId": "415029bf-cd31-4ebd-d4b8-8b47724da118"
      },
      "outputs": [
        {
          "output_type": "stream",
          "name": "stdout",
          "text": [
            "<bound method NDFrame.astype of 0        18410\n",
            "1        04101\n",
            "2        04101\n",
            "3        04102\n",
            "4        04102\n",
            "         ...  \n",
            "14556    10410\n",
            "14557    01424\n",
            "14558    06418\n",
            "14559    10412\n",
            "14560    04120\n",
            "Name: GRD, Length: 14561, dtype: category\n",
            "Categories (210, object): ['01120', '01410', '01411', '01413', ..., '21417', '22410', '22411', '22412']>\n",
            "<bound method NDFrame.astype of 0          24\n",
            "1        1450\n",
            "2         623\n",
            "3         670\n",
            "4        1427\n",
            "         ... \n",
            "14556     196\n",
            "14557    1239\n",
            "14558     704\n",
            "14559     222\n",
            "14560    1231\n",
            "Name: Diag_principal, Length: 14561, dtype: int64>\n",
            "<bound method NDFrame.astype of 0        87\n",
            "1        88\n",
            "2        88\n",
            "3        88\n",
            "4        96\n",
            "         ..\n",
            "14556    57\n",
            "14557     0\n",
            "14558     0\n",
            "14559     0\n",
            "14560    89\n",
            "Name: Proced9, Length: 14561, dtype: int64>\n",
            "<bound method NDFrame.astype of 0        40\n",
            "1        53\n",
            "2        65\n",
            "3        61\n",
            "4        30\n",
            "         ..\n",
            "14556    26\n",
            "14557    10\n",
            "14558    58\n",
            "14559    47\n",
            "14560    73\n",
            "Name: Edad, Length: 14561, dtype: int32>\n",
            "Diag_principal      0\n",
            "Diag2               0\n",
            "Diag3               0\n",
            "Diag4               0\n",
            "Diag5               0\n",
            "Diag6               0\n",
            "Diag7               0\n",
            "Diag8               0\n",
            "Diag9               0\n",
            "Diag10              0\n",
            "Diag11              0\n",
            "Diag12              0\n",
            "Diag13              0\n",
            "Diag14              0\n",
            "Diag15              0\n",
            "Proced_principal    0\n",
            "Proced2             0\n",
            "Proced3             0\n",
            "Proced4             0\n",
            "Proced5             0\n",
            "Proced6             0\n",
            "Proced7             0\n",
            "Proced8             0\n",
            "Proced9             0\n",
            "Proced10            0\n",
            "Proced11            0\n",
            "Proced12            0\n",
            "Proced13            0\n",
            "Proced14            0\n",
            "Proced15            0\n",
            "Edad                0\n",
            "Sexo                0\n",
            "GRD                 0\n",
            "dtype: int64\n"
          ]
        }
      ],
      "source": [
        "#Verificamos el tipo de variable de cada Grupo y ademas la existencia de valores nulos\n",
        "print(df1['GRD'].astype)\n",
        "print(df1['Diag_principal'].astype)\n",
        "print(df1['Proced9'].astype)\n",
        "print(df1['Edad'].astype)\n",
        "print(df1.isnull().sum())\n"
      ]
    },
    {
      "cell_type": "markdown",
      "metadata": {
        "id": "fFK7On3pnKhh"
      },
      "source": []
    },
    {
      "cell_type": "code",
      "execution_count": null,
      "metadata": {
        "id": "Bo65MoGGjhpV",
        "colab": {
          "base_uri": "https://localhost:8080/"
        },
        "outputId": "8fcb611a-88ad-4a9e-bf03-dc13bf20b5b8"
      },
      "outputs": [
        {
          "output_type": "stream",
          "name": "stdout",
          "text": [
            "196\n",
            "33\n"
          ]
        }
      ],
      "source": [
        "num_classes = len(np.unique(Ytrain))\n",
        "num_col = len(df1.columns)\n",
        "print(num_classes)\n",
        "print(num_col)\n"
      ]
    },
    {
      "cell_type": "markdown",
      "metadata": {
        "id": "06AQnn0-9I70"
      },
      "source": [
        "Creación del Modelo"
      ]
    },
    {
      "cell_type": "code",
      "execution_count": null,
      "metadata": {
        "id": "icvl0I_ewRYt"
      },
      "outputs": [],
      "source": [
        "from keras.utils import np_utils\n",
        "Ytrain = np_utils.to_categorical(Ytrain)\n",
        "Yval = np_utils.to_categorical(Yval)\n",
        "Ytest = np_utils.to_categorical(Ytest)"
      ]
    },
    {
      "cell_type": "code",
      "execution_count": null,
      "metadata": {
        "id": "d9HlU-ev9LII"
      },
      "outputs": [],
      "source": [
        "import keras\n",
        "from keras import *\n",
        "from keras.layers import *\n",
        "\n",
        "Model = Sequential()\n",
        "\n",
        "Model.add(Dense(80, input_shape=(Xtrain.shape[1],) , activation=\"relu\"))\n",
        "Model.add(Dense(240, activation=\"relu\"))\n",
        "Model.add(Dense(120, activation=\"relu\"))\n",
        "Model.add(Dense(22413, activation = \"softmax\")) \n",
        "\n",
        "Model.compile(optimizer=\"adam\", loss=\"categorical_crossentropy\", metrics=[\"accuracy\"])"
      ]
    },
    {
      "cell_type": "code",
      "execution_count": null,
      "metadata": {
        "id": "4sOT6q2OZo7L"
      },
      "outputs": [],
      "source": [
        "# Model.summary()"
      ]
    },
    {
      "cell_type": "code",
      "execution_count": null,
      "metadata": {
        "id": "QD9pEL_gCMFu",
        "colab": {
          "base_uri": "https://localhost:8080/"
        },
        "outputId": "a2d67eb2-cddf-430e-c837-095887e51aef"
      },
      "outputs": [
        {
          "output_type": "stream",
          "name": "stdout",
          "text": [
            "Epoch 1/100\n",
            "137/137 [==============================] - 6s 22ms/step - loss: 4.6507 - accuracy: 0.1633 - val_loss: 3.3573 - val_accuracy: 0.2479\n",
            "Epoch 2/100\n",
            "137/137 [==============================] - 2s 17ms/step - loss: 2.9815 - accuracy: 0.3038 - val_loss: 2.8184 - val_accuracy: 0.3455\n",
            "Epoch 3/100\n",
            "137/137 [==============================] - 2s 18ms/step - loss: 2.5725 - accuracy: 0.3693 - val_loss: 2.5627 - val_accuracy: 0.3901\n",
            "Epoch 4/100\n",
            "137/137 [==============================] - 3s 19ms/step - loss: 2.3453 - accuracy: 0.4072 - val_loss: 2.4180 - val_accuracy: 0.3973\n",
            "Epoch 5/100\n",
            "137/137 [==============================] - 2s 17ms/step - loss: 2.1537 - accuracy: 0.4465 - val_loss: 2.2711 - val_accuracy: 0.4423\n",
            "Epoch 6/100\n",
            "137/137 [==============================] - 3s 19ms/step - loss: 2.0041 - accuracy: 0.4653 - val_loss: 2.1706 - val_accuracy: 0.4636\n",
            "Epoch 7/100\n",
            "137/137 [==============================] - 3s 19ms/step - loss: 1.8867 - accuracy: 0.4875 - val_loss: 2.1259 - val_accuracy: 0.4701\n",
            "Epoch 8/100\n",
            "137/137 [==============================] - 2s 15ms/step - loss: 1.7854 - accuracy: 0.5038 - val_loss: 2.1007 - val_accuracy: 0.4797\n",
            "Epoch 9/100\n",
            "137/137 [==============================] - 2s 15ms/step - loss: 1.6998 - accuracy: 0.5199 - val_loss: 2.0806 - val_accuracy: 0.4784\n",
            "Epoch 10/100\n",
            "137/137 [==============================] - 2s 14ms/step - loss: 1.6341 - accuracy: 0.5280 - val_loss: 2.0503 - val_accuracy: 0.4887\n",
            "Epoch 11/100\n",
            "137/137 [==============================] - 2s 15ms/step - loss: 1.5629 - accuracy: 0.5402 - val_loss: 2.0074 - val_accuracy: 0.5000\n",
            "Epoch 12/100\n",
            "137/137 [==============================] - 2s 15ms/step - loss: 1.5136 - accuracy: 0.5524 - val_loss: 2.0437 - val_accuracy: 0.4815\n",
            "Epoch 13/100\n",
            "137/137 [==============================] - 2s 16ms/step - loss: 1.4633 - accuracy: 0.5635 - val_loss: 2.0224 - val_accuracy: 0.4948\n",
            "Epoch 14/100\n",
            "137/137 [==============================] - 2s 15ms/step - loss: 1.4040 - accuracy: 0.5753 - val_loss: 2.0007 - val_accuracy: 0.4852\n",
            "Epoch 15/100\n",
            "137/137 [==============================] - 2s 14ms/step - loss: 1.3497 - accuracy: 0.5872 - val_loss: 1.9961 - val_accuracy: 0.5086\n",
            "Epoch 16/100\n",
            "137/137 [==============================] - 2s 14ms/step - loss: 1.3129 - accuracy: 0.5966 - val_loss: 2.0165 - val_accuracy: 0.5045\n",
            "Epoch 17/100\n",
            "137/137 [==============================] - 2s 16ms/step - loss: 1.2686 - accuracy: 0.6051 - val_loss: 1.9988 - val_accuracy: 0.5251\n",
            "Epoch 18/100\n",
            "137/137 [==============================] - 2s 17ms/step - loss: 1.2244 - accuracy: 0.6138 - val_loss: 2.0073 - val_accuracy: 0.5168\n",
            "Epoch 19/100\n",
            "137/137 [==============================] - 2s 14ms/step - loss: 1.1878 - accuracy: 0.6237 - val_loss: 2.0391 - val_accuracy: 0.5165\n",
            "Epoch 20/100\n",
            "137/137 [==============================] - 2s 14ms/step - loss: 1.1492 - accuracy: 0.6350 - val_loss: 2.0678 - val_accuracy: 0.5106\n",
            "Epoch 21/100\n",
            "137/137 [==============================] - 2s 16ms/step - loss: 1.1128 - accuracy: 0.6397 - val_loss: 2.0954 - val_accuracy: 0.5027\n",
            "Epoch 22/100\n",
            "137/137 [==============================] - 2s 16ms/step - loss: 1.0758 - accuracy: 0.6526 - val_loss: 2.0828 - val_accuracy: 0.5213\n",
            "Epoch 23/100\n",
            "137/137 [==============================] - 2s 16ms/step - loss: 1.0411 - accuracy: 0.6644 - val_loss: 2.1099 - val_accuracy: 0.5175\n",
            "Epoch 24/100\n",
            "137/137 [==============================] - 2s 16ms/step - loss: 1.0177 - accuracy: 0.6662 - val_loss: 2.0904 - val_accuracy: 0.5302\n",
            "Epoch 25/100\n",
            "137/137 [==============================] - 2s 15ms/step - loss: 0.9821 - accuracy: 0.6716 - val_loss: 2.1165 - val_accuracy: 0.5220\n",
            "Epoch 26/100\n",
            "137/137 [==============================] - 2s 16ms/step - loss: 0.9538 - accuracy: 0.6852 - val_loss: 2.1665 - val_accuracy: 0.5268\n",
            "Epoch 27/100\n",
            "137/137 [==============================] - 2s 14ms/step - loss: 0.9209 - accuracy: 0.6917 - val_loss: 2.2024 - val_accuracy: 0.5247\n",
            "Epoch 28/100\n",
            "137/137 [==============================] - 2s 16ms/step - loss: 0.8992 - accuracy: 0.6973 - val_loss: 2.1915 - val_accuracy: 0.5312\n",
            "Epoch 29/100\n",
            "137/137 [==============================] - 2s 15ms/step - loss: 0.8758 - accuracy: 0.7032 - val_loss: 2.2980 - val_accuracy: 0.5141\n",
            "Epoch 30/100\n",
            "137/137 [==============================] - 2s 16ms/step - loss: 0.8394 - accuracy: 0.7176 - val_loss: 2.2777 - val_accuracy: 0.5261\n",
            "Epoch 31/100\n",
            "137/137 [==============================] - 2s 15ms/step - loss: 0.8211 - accuracy: 0.7242 - val_loss: 2.3285 - val_accuracy: 0.5333\n",
            "Epoch 32/100\n",
            "137/137 [==============================] - 2s 16ms/step - loss: 0.7881 - accuracy: 0.7336 - val_loss: 2.3448 - val_accuracy: 0.5275\n",
            "Epoch 33/100\n",
            "137/137 [==============================] - 2s 15ms/step - loss: 0.7706 - accuracy: 0.7392 - val_loss: 2.4199 - val_accuracy: 0.5151\n",
            "Epoch 34/100\n",
            "137/137 [==============================] - 2s 14ms/step - loss: 0.7397 - accuracy: 0.7454 - val_loss: 2.4706 - val_accuracy: 0.5148\n",
            "Epoch 35/100\n",
            "137/137 [==============================] - 2s 15ms/step - loss: 0.7271 - accuracy: 0.7508 - val_loss: 2.4793 - val_accuracy: 0.5110\n",
            "Epoch 36/100\n",
            "137/137 [==============================] - 3s 21ms/step - loss: 0.7072 - accuracy: 0.7589 - val_loss: 2.4708 - val_accuracy: 0.5312\n",
            "Epoch 37/100\n",
            "137/137 [==============================] - 2s 14ms/step - loss: 0.6830 - accuracy: 0.7627 - val_loss: 2.5387 - val_accuracy: 0.5288\n",
            "Epoch 38/100\n",
            "137/137 [==============================] - 2s 14ms/step - loss: 0.6539 - accuracy: 0.7729 - val_loss: 2.5963 - val_accuracy: 0.5130\n",
            "Epoch 39/100\n",
            "137/137 [==============================] - 3s 18ms/step - loss: 0.6469 - accuracy: 0.7764 - val_loss: 2.6088 - val_accuracy: 0.5172\n",
            "Epoch 40/100\n",
            "137/137 [==============================] - 2s 17ms/step - loss: 0.6176 - accuracy: 0.7885 - val_loss: 2.6478 - val_accuracy: 0.5168\n",
            "Epoch 41/100\n",
            "137/137 [==============================] - 3s 23ms/step - loss: 0.6055 - accuracy: 0.7879 - val_loss: 2.7691 - val_accuracy: 0.5158\n",
            "Epoch 42/100\n",
            "137/137 [==============================] - 2s 18ms/step - loss: 0.5808 - accuracy: 0.8012 - val_loss: 2.7225 - val_accuracy: 0.5172\n",
            "Epoch 43/100\n",
            "137/137 [==============================] - 3s 18ms/step - loss: 0.5636 - accuracy: 0.8037 - val_loss: 2.8128 - val_accuracy: 0.5172\n",
            "Epoch 44/100\n",
            "137/137 [==============================] - 2s 17ms/step - loss: 0.5475 - accuracy: 0.8104 - val_loss: 2.8205 - val_accuracy: 0.5271\n",
            "Epoch 45/100\n",
            "137/137 [==============================] - 2s 17ms/step - loss: 0.5323 - accuracy: 0.8166 - val_loss: 2.8488 - val_accuracy: 0.5216\n",
            "Epoch 46/100\n",
            "137/137 [==============================] - 2s 17ms/step - loss: 0.5112 - accuracy: 0.8249 - val_loss: 2.9542 - val_accuracy: 0.5161\n",
            "Epoch 47/100\n",
            "137/137 [==============================] - 2s 18ms/step - loss: 0.5028 - accuracy: 0.8236 - val_loss: 2.9636 - val_accuracy: 0.5182\n",
            "Epoch 48/100\n",
            "137/137 [==============================] - 2s 18ms/step - loss: 0.4838 - accuracy: 0.8348 - val_loss: 2.9910 - val_accuracy: 0.5141\n",
            "Epoch 49/100\n",
            "137/137 [==============================] - 2s 14ms/step - loss: 0.4663 - accuracy: 0.8340 - val_loss: 3.0713 - val_accuracy: 0.5079\n",
            "Epoch 50/100\n",
            "137/137 [==============================] - 2s 15ms/step - loss: 0.4640 - accuracy: 0.8360 - val_loss: 3.1087 - val_accuracy: 0.5244\n",
            "Epoch 51/100\n",
            "137/137 [==============================] - 2s 16ms/step - loss: 0.4382 - accuracy: 0.8511 - val_loss: 3.1459 - val_accuracy: 0.5237\n",
            "Epoch 52/100\n",
            "137/137 [==============================] - 2s 16ms/step - loss: 0.4147 - accuracy: 0.8601 - val_loss: 3.1688 - val_accuracy: 0.5323\n",
            "Epoch 53/100\n",
            "137/137 [==============================] - 2s 14ms/step - loss: 0.4100 - accuracy: 0.8550 - val_loss: 3.3138 - val_accuracy: 0.5237\n",
            "Epoch 54/100\n",
            "137/137 [==============================] - 2s 16ms/step - loss: 0.4043 - accuracy: 0.8587 - val_loss: 3.2888 - val_accuracy: 0.5041\n",
            "Epoch 55/100\n",
            "137/137 [==============================] - 2s 14ms/step - loss: 0.3991 - accuracy: 0.8583 - val_loss: 3.3183 - val_accuracy: 0.5216\n",
            "Epoch 56/100\n",
            "137/137 [==============================] - 2s 14ms/step - loss: 0.3828 - accuracy: 0.8692 - val_loss: 3.3796 - val_accuracy: 0.5230\n",
            "Epoch 57/100\n",
            "137/137 [==============================] - 2s 16ms/step - loss: 0.3795 - accuracy: 0.8666 - val_loss: 3.4447 - val_accuracy: 0.5182\n",
            "Epoch 58/100\n",
            "137/137 [==============================] - 2s 16ms/step - loss: 0.3685 - accuracy: 0.8711 - val_loss: 3.5098 - val_accuracy: 0.5072\n",
            "Epoch 59/100\n",
            "137/137 [==============================] - 2s 16ms/step - loss: 0.3648 - accuracy: 0.8721 - val_loss: 3.4946 - val_accuracy: 0.5223\n",
            "Epoch 60/100\n",
            "137/137 [==============================] - 2s 14ms/step - loss: 0.3474 - accuracy: 0.8798 - val_loss: 3.5687 - val_accuracy: 0.5175\n",
            "Epoch 61/100\n",
            "137/137 [==============================] - 2s 14ms/step - loss: 0.3298 - accuracy: 0.8850 - val_loss: 3.6407 - val_accuracy: 0.5189\n",
            "Epoch 62/100\n",
            "137/137 [==============================] - 2s 14ms/step - loss: 0.3278 - accuracy: 0.8872 - val_loss: 3.6356 - val_accuracy: 0.5185\n",
            "Epoch 63/100\n",
            "137/137 [==============================] - 2s 14ms/step - loss: 0.3451 - accuracy: 0.8819 - val_loss: 3.7361 - val_accuracy: 0.5106\n",
            "Epoch 64/100\n",
            "137/137 [==============================] - 2s 16ms/step - loss: 0.3170 - accuracy: 0.8924 - val_loss: 3.7336 - val_accuracy: 0.5234\n",
            "Epoch 65/100\n",
            "137/137 [==============================] - 2s 17ms/step - loss: 0.3100 - accuracy: 0.8925 - val_loss: 3.7934 - val_accuracy: 0.5230\n",
            "Epoch 66/100\n",
            "137/137 [==============================] - 2s 16ms/step - loss: 0.2924 - accuracy: 0.8987 - val_loss: 3.8825 - val_accuracy: 0.5155\n",
            "Epoch 67/100\n",
            "137/137 [==============================] - 2s 14ms/step - loss: 0.2823 - accuracy: 0.8992 - val_loss: 3.9559 - val_accuracy: 0.5052\n",
            "Epoch 68/100\n",
            "137/137 [==============================] - 2s 16ms/step - loss: 0.2725 - accuracy: 0.9068 - val_loss: 4.0191 - val_accuracy: 0.5021\n",
            "Epoch 69/100\n",
            "137/137 [==============================] - 2s 14ms/step - loss: 0.2880 - accuracy: 0.9030 - val_loss: 3.9517 - val_accuracy: 0.5213\n",
            "Epoch 70/100\n",
            "137/137 [==============================] - 2s 17ms/step - loss: 0.2616 - accuracy: 0.9119 - val_loss: 4.0758 - val_accuracy: 0.5076\n",
            "Epoch 71/100\n",
            "137/137 [==============================] - 2s 15ms/step - loss: 0.2504 - accuracy: 0.9160 - val_loss: 4.1321 - val_accuracy: 0.5220\n",
            "Epoch 72/100\n",
            "137/137 [==============================] - 2s 16ms/step - loss: 0.2399 - accuracy: 0.9183 - val_loss: 4.1575 - val_accuracy: 0.5175\n",
            "Epoch 73/100\n",
            "137/137 [==============================] - 2s 16ms/step - loss: 0.2419 - accuracy: 0.9188 - val_loss: 4.2123 - val_accuracy: 0.5069\n",
            "Epoch 74/100\n",
            "137/137 [==============================] - 2s 14ms/step - loss: 0.2650 - accuracy: 0.9064 - val_loss: 4.2426 - val_accuracy: 0.5113\n",
            "Epoch 75/100\n",
            "137/137 [==============================] - 2s 16ms/step - loss: 0.2632 - accuracy: 0.9090 - val_loss: 4.3132 - val_accuracy: 0.5141\n",
            "Epoch 76/100\n",
            "137/137 [==============================] - 2s 16ms/step - loss: 0.2369 - accuracy: 0.9187 - val_loss: 4.3316 - val_accuracy: 0.5216\n",
            "Epoch 77/100\n",
            "137/137 [==============================] - 2s 16ms/step - loss: 0.2353 - accuracy: 0.9198 - val_loss: 4.3687 - val_accuracy: 0.5100\n",
            "Epoch 78/100\n",
            "137/137 [==============================] - 2s 16ms/step - loss: 0.2277 - accuracy: 0.9208 - val_loss: 4.4629 - val_accuracy: 0.5106\n",
            "Epoch 79/100\n",
            "137/137 [==============================] - 2s 16ms/step - loss: 0.2156 - accuracy: 0.9254 - val_loss: 4.5713 - val_accuracy: 0.4986\n",
            "Epoch 80/100\n",
            "137/137 [==============================] - 2s 14ms/step - loss: 0.2207 - accuracy: 0.9227 - val_loss: 4.4903 - val_accuracy: 0.5185\n",
            "Epoch 81/100\n",
            "137/137 [==============================] - 2s 14ms/step - loss: 0.2029 - accuracy: 0.9310 - val_loss: 4.5891 - val_accuracy: 0.5110\n",
            "Epoch 82/100\n",
            "137/137 [==============================] - 2s 16ms/step - loss: 0.2235 - accuracy: 0.9225 - val_loss: 4.5785 - val_accuracy: 0.5093\n",
            "Epoch 83/100\n",
            "137/137 [==============================] - 2s 14ms/step - loss: 0.2513 - accuracy: 0.9109 - val_loss: 4.6077 - val_accuracy: 0.5003\n",
            "Epoch 84/100\n",
            "137/137 [==============================] - 2s 16ms/step - loss: 0.2211 - accuracy: 0.9228 - val_loss: 4.6795 - val_accuracy: 0.5072\n",
            "Epoch 85/100\n",
            "137/137 [==============================] - 2s 16ms/step - loss: 0.2012 - accuracy: 0.9290 - val_loss: 4.6902 - val_accuracy: 0.5079\n",
            "Epoch 86/100\n",
            "137/137 [==============================] - 2s 14ms/step - loss: 0.1784 - accuracy: 0.9388 - val_loss: 4.7776 - val_accuracy: 0.5130\n",
            "Epoch 87/100\n",
            "137/137 [==============================] - 2s 15ms/step - loss: 0.1818 - accuracy: 0.9366 - val_loss: 4.7846 - val_accuracy: 0.5161\n",
            "Epoch 88/100\n",
            "137/137 [==============================] - 2s 18ms/step - loss: 0.1966 - accuracy: 0.9307 - val_loss: 4.8651 - val_accuracy: 0.5155\n",
            "Epoch 89/100\n",
            "137/137 [==============================] - 2s 14ms/step - loss: 0.1996 - accuracy: 0.9297 - val_loss: 4.9398 - val_accuracy: 0.5103\n",
            "Epoch 90/100\n",
            "137/137 [==============================] - 2s 16ms/step - loss: 0.1682 - accuracy: 0.9445 - val_loss: 4.9934 - val_accuracy: 0.5076\n",
            "Epoch 91/100\n",
            "137/137 [==============================] - 2s 16ms/step - loss: 0.1756 - accuracy: 0.9351 - val_loss: 5.0619 - val_accuracy: 0.5172\n",
            "Epoch 92/100\n",
            "137/137 [==============================] - 2s 16ms/step - loss: 0.1846 - accuracy: 0.9334 - val_loss: 5.0098 - val_accuracy: 0.5168\n",
            "Epoch 93/100\n",
            "137/137 [==============================] - 2s 16ms/step - loss: 0.1860 - accuracy: 0.9345 - val_loss: 5.1200 - val_accuracy: 0.5106\n",
            "Epoch 94/100\n",
            "137/137 [==============================] - 2s 15ms/step - loss: 0.2090 - accuracy: 0.9266 - val_loss: 5.0470 - val_accuracy: 0.4979\n",
            "Epoch 95/100\n",
            "137/137 [==============================] - 2s 14ms/step - loss: 0.1807 - accuracy: 0.9344 - val_loss: 5.1381 - val_accuracy: 0.5120\n",
            "Epoch 96/100\n",
            "137/137 [==============================] - 2s 14ms/step - loss: 0.1785 - accuracy: 0.9383 - val_loss: 5.1316 - val_accuracy: 0.5151\n",
            "Epoch 97/100\n",
            "137/137 [==============================] - 2s 14ms/step - loss: 0.1642 - accuracy: 0.9423 - val_loss: 5.1551 - val_accuracy: 0.5168\n",
            "Epoch 98/100\n",
            "137/137 [==============================] - 2s 14ms/step - loss: 0.1592 - accuracy: 0.9451 - val_loss: 5.2412 - val_accuracy: 0.5117\n",
            "Epoch 99/100\n",
            "137/137 [==============================] - 2s 16ms/step - loss: 0.1704 - accuracy: 0.9416 - val_loss: 5.2121 - val_accuracy: 0.5127\n",
            "Epoch 100/100\n",
            "137/137 [==============================] - 2s 17ms/step - loss: 0.1513 - accuracy: 0.9496 - val_loss: 5.3072 - val_accuracy: 0.5134\n"
          ]
        }
      ],
      "source": [
        "a=Model.fit(Xtrain, Ytrain, epochs= 100 , validation_data=(Xval,Yval), batch_size=64)"
      ]
    },
    {
      "cell_type": "code",
      "source": [
        "#Modelo 2\n",
        "\n",
        "import keras\n",
        "from keras import *\n",
        "from keras.layers import *\n",
        "\n",
        "Model2 = Sequential()\n",
        "\n",
        "Model2.add(Dense(120, input_shape=(Xtrain.shape[1],) , activation=\"relu\"))\n",
        "Model2.add(Dense(560, activation=\"relu\"))\n",
        "Model2.add(Dense(240, activation=\"relu\"))\n",
        "Model2.add(Dense(22413, activation = \"softmax\")) \n",
        "\n",
        "Model2.compile(optimizer=\"adam\", loss=\"categorical_crossentropy\", metrics=[\"accuracy\"])"
      ],
      "metadata": {
        "id": "wSbqPj9AB_IO"
      },
      "execution_count": null,
      "outputs": []
    },
    {
      "cell_type": "code",
      "source": [
        "a2=Model2.fit(Xtrain, Ytrain, epochs= 100 , validation_data=(Xval,Yval), batch_size=64)"
      ],
      "metadata": {
        "id": "iEkZ_3hRCfVL",
        "colab": {
          "base_uri": "https://localhost:8080/"
        },
        "outputId": "5f236ebe-d98c-4fc0-a4d4-9d4b33fe6f34"
      },
      "execution_count": null,
      "outputs": [
        {
          "output_type": "stream",
          "name": "stdout",
          "text": [
            "Epoch 1/100\n",
            "137/137 [==============================] - 5s 21ms/step - loss: 4.2761 - accuracy: 0.1900 - val_loss: 3.0562 - val_accuracy: 0.3005\n",
            "Epoch 2/100\n",
            "137/137 [==============================] - 2s 14ms/step - loss: 2.7208 - accuracy: 0.3488 - val_loss: 2.6515 - val_accuracy: 0.3527\n",
            "Epoch 3/100\n",
            "137/137 [==============================] - 2s 16ms/step - loss: 2.3592 - accuracy: 0.4085 - val_loss: 2.4071 - val_accuracy: 0.4011\n",
            "Epoch 4/100\n",
            "137/137 [==============================] - 2s 15ms/step - loss: 2.1055 - accuracy: 0.4443 - val_loss: 2.1817 - val_accuracy: 0.4622\n",
            "Epoch 5/100\n",
            "137/137 [==============================] - 2s 16ms/step - loss: 1.9247 - accuracy: 0.4752 - val_loss: 2.1176 - val_accuracy: 0.4739\n",
            "Epoch 6/100\n",
            "137/137 [==============================] - 2s 14ms/step - loss: 1.7882 - accuracy: 0.4966 - val_loss: 2.0859 - val_accuracy: 0.4760\n",
            "Epoch 7/100\n",
            "137/137 [==============================] - 2s 14ms/step - loss: 1.6678 - accuracy: 0.5198 - val_loss: 2.0588 - val_accuracy: 0.4904\n",
            "Epoch 8/100\n",
            "137/137 [==============================] - 2s 16ms/step - loss: 1.5639 - accuracy: 0.5397 - val_loss: 2.0193 - val_accuracy: 0.4880\n",
            "Epoch 9/100\n",
            "137/137 [==============================] - 2s 16ms/step - loss: 1.4857 - accuracy: 0.5540 - val_loss: 2.0204 - val_accuracy: 0.4825\n",
            "Epoch 10/100\n",
            "137/137 [==============================] - 2s 14ms/step - loss: 1.4014 - accuracy: 0.5698 - val_loss: 2.0300 - val_accuracy: 0.4969\n",
            "Epoch 11/100\n",
            "137/137 [==============================] - 2s 16ms/step - loss: 1.3348 - accuracy: 0.5859 - val_loss: 2.0271 - val_accuracy: 0.5155\n",
            "Epoch 12/100\n",
            "137/137 [==============================] - 2s 15ms/step - loss: 1.2548 - accuracy: 0.6051 - val_loss: 2.0544 - val_accuracy: 0.5062\n",
            "Epoch 13/100\n",
            "137/137 [==============================] - 3s 19ms/step - loss: 1.1912 - accuracy: 0.6218 - val_loss: 1.9940 - val_accuracy: 0.5161\n",
            "Epoch 14/100\n",
            "137/137 [==============================] - 2s 18ms/step - loss: 1.1203 - accuracy: 0.6391 - val_loss: 2.0733 - val_accuracy: 0.5185\n",
            "Epoch 15/100\n",
            "137/137 [==============================] - 2s 14ms/step - loss: 1.0665 - accuracy: 0.6527 - val_loss: 2.1057 - val_accuracy: 0.5206\n",
            "Epoch 16/100\n",
            "137/137 [==============================] - 2s 15ms/step - loss: 1.0096 - accuracy: 0.6684 - val_loss: 2.1326 - val_accuracy: 0.5137\n",
            "Epoch 17/100\n",
            "137/137 [==============================] - 2s 16ms/step - loss: 0.9527 - accuracy: 0.6837 - val_loss: 2.1938 - val_accuracy: 0.5240\n",
            "Epoch 18/100\n",
            "137/137 [==============================] - 2s 16ms/step - loss: 0.9021 - accuracy: 0.6970 - val_loss: 2.2094 - val_accuracy: 0.5165\n",
            "Epoch 19/100\n",
            "137/137 [==============================] - 2s 14ms/step - loss: 0.8459 - accuracy: 0.7105 - val_loss: 2.3121 - val_accuracy: 0.5093\n",
            "Epoch 20/100\n",
            "137/137 [==============================] - 2s 16ms/step - loss: 0.8057 - accuracy: 0.7213 - val_loss: 2.3367 - val_accuracy: 0.5134\n",
            "Epoch 21/100\n",
            "137/137 [==============================] - 2s 16ms/step - loss: 0.7416 - accuracy: 0.7479 - val_loss: 2.3682 - val_accuracy: 0.5244\n",
            "Epoch 22/100\n",
            "137/137 [==============================] - 2s 16ms/step - loss: 0.7014 - accuracy: 0.7565 - val_loss: 2.4416 - val_accuracy: 0.5234\n",
            "Epoch 23/100\n",
            "137/137 [==============================] - 2s 16ms/step - loss: 0.6540 - accuracy: 0.7721 - val_loss: 2.5088 - val_accuracy: 0.5264\n",
            "Epoch 24/100\n",
            "137/137 [==============================] - 2s 16ms/step - loss: 0.6284 - accuracy: 0.7786 - val_loss: 2.5720 - val_accuracy: 0.5285\n",
            "Epoch 25/100\n",
            "137/137 [==============================] - 2s 14ms/step - loss: 0.5840 - accuracy: 0.7974 - val_loss: 2.6350 - val_accuracy: 0.5275\n",
            "Epoch 26/100\n",
            "137/137 [==============================] - 2s 14ms/step - loss: 0.5374 - accuracy: 0.8148 - val_loss: 2.7354 - val_accuracy: 0.5103\n",
            "Epoch 27/100\n",
            "137/137 [==============================] - 2s 14ms/step - loss: 0.5218 - accuracy: 0.8190 - val_loss: 2.8790 - val_accuracy: 0.5110\n",
            "Epoch 28/100\n",
            "137/137 [==============================] - 2s 17ms/step - loss: 0.4782 - accuracy: 0.8341 - val_loss: 2.9139 - val_accuracy: 0.5082\n",
            "Epoch 29/100\n",
            "137/137 [==============================] - 2s 16ms/step - loss: 0.4585 - accuracy: 0.8417 - val_loss: 2.9790 - val_accuracy: 0.5151\n",
            "Epoch 30/100\n",
            "137/137 [==============================] - 2s 14ms/step - loss: 0.4267 - accuracy: 0.8530 - val_loss: 3.0918 - val_accuracy: 0.5161\n",
            "Epoch 31/100\n",
            "137/137 [==============================] - 2s 14ms/step - loss: 0.4137 - accuracy: 0.8554 - val_loss: 3.0844 - val_accuracy: 0.5203\n",
            "Epoch 32/100\n",
            "137/137 [==============================] - 2s 16ms/step - loss: 0.3794 - accuracy: 0.8684 - val_loss: 3.1050 - val_accuracy: 0.5240\n",
            "Epoch 33/100\n",
            "137/137 [==============================] - 2s 14ms/step - loss: 0.3497 - accuracy: 0.8800 - val_loss: 3.3214 - val_accuracy: 0.5048\n",
            "Epoch 34/100\n",
            "137/137 [==============================] - 2s 17ms/step - loss: 0.3451 - accuracy: 0.8807 - val_loss: 3.3251 - val_accuracy: 0.5247\n",
            "Epoch 35/100\n",
            "137/137 [==============================] - 2s 14ms/step - loss: 0.3351 - accuracy: 0.8818 - val_loss: 3.3713 - val_accuracy: 0.5165\n",
            "Epoch 36/100\n",
            "137/137 [==============================] - 2s 16ms/step - loss: 0.2991 - accuracy: 0.8942 - val_loss: 3.4565 - val_accuracy: 0.5295\n",
            "Epoch 37/100\n",
            "137/137 [==============================] - 2s 16ms/step - loss: 0.2853 - accuracy: 0.9028 - val_loss: 3.5384 - val_accuracy: 0.5271\n",
            "Epoch 38/100\n",
            "137/137 [==============================] - 2s 15ms/step - loss: 0.2810 - accuracy: 0.9016 - val_loss: 3.6130 - val_accuracy: 0.5134\n",
            "Epoch 39/100\n",
            "137/137 [==============================] - 2s 16ms/step - loss: 0.2716 - accuracy: 0.9064 - val_loss: 3.6617 - val_accuracy: 0.5113\n",
            "Epoch 40/100\n",
            "137/137 [==============================] - 2s 15ms/step - loss: 0.2780 - accuracy: 0.9020 - val_loss: 3.7830 - val_accuracy: 0.5155\n",
            "Epoch 41/100\n",
            "137/137 [==============================] - 2s 16ms/step - loss: 0.2462 - accuracy: 0.9139 - val_loss: 3.7912 - val_accuracy: 0.5137\n",
            "Epoch 42/100\n",
            "137/137 [==============================] - 2s 14ms/step - loss: 0.2331 - accuracy: 0.9204 - val_loss: 3.8225 - val_accuracy: 0.5185\n",
            "Epoch 43/100\n",
            "137/137 [==============================] - 2s 14ms/step - loss: 0.2346 - accuracy: 0.9190 - val_loss: 3.9049 - val_accuracy: 0.5240\n",
            "Epoch 44/100\n",
            "137/137 [==============================] - 2s 16ms/step - loss: 0.2100 - accuracy: 0.9263 - val_loss: 3.9454 - val_accuracy: 0.5282\n",
            "Epoch 45/100\n",
            "137/137 [==============================] - 2s 16ms/step - loss: 0.2088 - accuracy: 0.9266 - val_loss: 4.1210 - val_accuracy: 0.5203\n",
            "Epoch 46/100\n",
            "137/137 [==============================] - 2s 17ms/step - loss: 0.2313 - accuracy: 0.9182 - val_loss: 4.1778 - val_accuracy: 0.5072\n",
            "Epoch 47/100\n",
            "137/137 [==============================] - 2s 14ms/step - loss: 0.2153 - accuracy: 0.9232 - val_loss: 4.1838 - val_accuracy: 0.5282\n",
            "Epoch 48/100\n",
            "137/137 [==============================] - 2s 16ms/step - loss: 0.2027 - accuracy: 0.9286 - val_loss: 4.2518 - val_accuracy: 0.5175\n",
            "Epoch 49/100\n",
            "137/137 [==============================] - 2s 16ms/step - loss: 0.1864 - accuracy: 0.9354 - val_loss: 4.3334 - val_accuracy: 0.5161\n",
            "Epoch 50/100\n",
            "137/137 [==============================] - 2s 14ms/step - loss: 0.1937 - accuracy: 0.9312 - val_loss: 4.3463 - val_accuracy: 0.5306\n",
            "Epoch 51/100\n",
            "137/137 [==============================] - 2s 17ms/step - loss: 0.1814 - accuracy: 0.9375 - val_loss: 4.4179 - val_accuracy: 0.5275\n",
            "Epoch 52/100\n",
            "137/137 [==============================] - 2s 14ms/step - loss: 0.1749 - accuracy: 0.9405 - val_loss: 4.4586 - val_accuracy: 0.5264\n",
            "Epoch 53/100\n",
            "137/137 [==============================] - 2s 16ms/step - loss: 0.1797 - accuracy: 0.9391 - val_loss: 4.5180 - val_accuracy: 0.5038\n",
            "Epoch 54/100\n",
            "137/137 [==============================] - 2s 14ms/step - loss: 0.1803 - accuracy: 0.9373 - val_loss: 4.5039 - val_accuracy: 0.5182\n",
            "Epoch 55/100\n",
            "137/137 [==============================] - 2s 16ms/step - loss: 0.1740 - accuracy: 0.9380 - val_loss: 4.5880 - val_accuracy: 0.5206\n",
            "Epoch 56/100\n",
            "137/137 [==============================] - 2s 14ms/step - loss: 0.1569 - accuracy: 0.9462 - val_loss: 4.6878 - val_accuracy: 0.5182\n",
            "Epoch 57/100\n",
            "137/137 [==============================] - 2s 17ms/step - loss: 0.1821 - accuracy: 0.9376 - val_loss: 4.6059 - val_accuracy: 0.5041\n",
            "Epoch 58/100\n",
            "137/137 [==============================] - 2s 15ms/step - loss: 0.1520 - accuracy: 0.9455 - val_loss: 4.8287 - val_accuracy: 0.5192\n",
            "Epoch 59/100\n",
            "137/137 [==============================] - 2s 14ms/step - loss: 0.1536 - accuracy: 0.9467 - val_loss: 4.7045 - val_accuracy: 0.5227\n",
            "Epoch 60/100\n",
            "137/137 [==============================] - 2s 16ms/step - loss: 0.1357 - accuracy: 0.9517 - val_loss: 4.8215 - val_accuracy: 0.5220\n",
            "Epoch 61/100\n",
            "137/137 [==============================] - 2s 14ms/step - loss: 0.1242 - accuracy: 0.9583 - val_loss: 4.9485 - val_accuracy: 0.5120\n",
            "Epoch 62/100\n",
            "137/137 [==============================] - 2s 14ms/step - loss: 0.1514 - accuracy: 0.9473 - val_loss: 4.9903 - val_accuracy: 0.5052\n",
            "Epoch 63/100\n",
            "137/137 [==============================] - 2s 16ms/step - loss: 0.1680 - accuracy: 0.9432 - val_loss: 5.0205 - val_accuracy: 0.5199\n",
            "Epoch 64/100\n",
            "137/137 [==============================] - 2s 14ms/step - loss: 0.1975 - accuracy: 0.9288 - val_loss: 5.0562 - val_accuracy: 0.5065\n",
            "Epoch 65/100\n",
            "137/137 [==============================] - 2s 14ms/step - loss: 0.1649 - accuracy: 0.9406 - val_loss: 4.9444 - val_accuracy: 0.5031\n",
            "Epoch 66/100\n",
            "137/137 [==============================] - 2s 14ms/step - loss: 0.1297 - accuracy: 0.9570 - val_loss: 5.0815 - val_accuracy: 0.5155\n",
            "Epoch 67/100\n",
            "137/137 [==============================] - 2s 14ms/step - loss: 0.1200 - accuracy: 0.9583 - val_loss: 5.2154 - val_accuracy: 0.5189\n",
            "Epoch 68/100\n",
            "137/137 [==============================] - 2s 14ms/step - loss: 0.1269 - accuracy: 0.9566 - val_loss: 5.0985 - val_accuracy: 0.5106\n",
            "Epoch 69/100\n",
            "137/137 [==============================] - 2s 17ms/step - loss: 0.1341 - accuracy: 0.9539 - val_loss: 5.2014 - val_accuracy: 0.4990\n",
            "Epoch 70/100\n",
            "137/137 [==============================] - 2s 16ms/step - loss: 0.1406 - accuracy: 0.9492 - val_loss: 5.1413 - val_accuracy: 0.5127\n",
            "Epoch 71/100\n",
            "137/137 [==============================] - 2s 14ms/step - loss: 0.1574 - accuracy: 0.9464 - val_loss: 5.1560 - val_accuracy: 0.5179\n",
            "Epoch 72/100\n",
            "137/137 [==============================] - 2s 16ms/step - loss: 0.1367 - accuracy: 0.9525 - val_loss: 5.2285 - val_accuracy: 0.5127\n",
            "Epoch 73/100\n",
            "137/137 [==============================] - 2s 14ms/step - loss: 0.1266 - accuracy: 0.9571 - val_loss: 5.3948 - val_accuracy: 0.5155\n",
            "Epoch 74/100\n",
            "137/137 [==============================] - 2s 16ms/step - loss: 0.1401 - accuracy: 0.9533 - val_loss: 5.3066 - val_accuracy: 0.5100\n",
            "Epoch 75/100\n",
            "137/137 [==============================] - 2s 16ms/step - loss: 0.1015 - accuracy: 0.9646 - val_loss: 5.3563 - val_accuracy: 0.5268\n",
            "Epoch 76/100\n",
            "137/137 [==============================] - 2s 15ms/step - loss: 0.0999 - accuracy: 0.9650 - val_loss: 5.4061 - val_accuracy: 0.5282\n",
            "Epoch 77/100\n",
            "137/137 [==============================] - 2s 14ms/step - loss: 0.0927 - accuracy: 0.9666 - val_loss: 5.4868 - val_accuracy: 0.5144\n",
            "Epoch 78/100\n",
            "137/137 [==============================] - 2s 16ms/step - loss: 0.1052 - accuracy: 0.9629 - val_loss: 5.4376 - val_accuracy: 0.5086\n",
            "Epoch 79/100\n",
            "137/137 [==============================] - 2s 16ms/step - loss: 0.1167 - accuracy: 0.9576 - val_loss: 5.6330 - val_accuracy: 0.5100\n",
            "Epoch 80/100\n",
            "137/137 [==============================] - 2s 15ms/step - loss: 0.1418 - accuracy: 0.9502 - val_loss: 5.7634 - val_accuracy: 0.5021\n",
            "Epoch 81/100\n",
            "137/137 [==============================] - 2s 16ms/step - loss: 0.1951 - accuracy: 0.9343 - val_loss: 5.6952 - val_accuracy: 0.4969\n",
            "Epoch 82/100\n",
            "137/137 [==============================] - 2s 14ms/step - loss: 0.1522 - accuracy: 0.9449 - val_loss: 5.6249 - val_accuracy: 0.5196\n",
            "Epoch 83/100\n",
            "137/137 [==============================] - 2s 16ms/step - loss: 0.1268 - accuracy: 0.9560 - val_loss: 5.6634 - val_accuracy: 0.5089\n",
            "Epoch 84/100\n",
            "137/137 [==============================] - 2s 16ms/step - loss: 0.0916 - accuracy: 0.9688 - val_loss: 5.6789 - val_accuracy: 0.5093\n",
            "Epoch 85/100\n",
            "137/137 [==============================] - 2s 14ms/step - loss: 0.0790 - accuracy: 0.9700 - val_loss: 5.6314 - val_accuracy: 0.5141\n",
            "Epoch 86/100\n",
            "137/137 [==============================] - 2s 16ms/step - loss: 0.1021 - accuracy: 0.9644 - val_loss: 5.7372 - val_accuracy: 0.5141\n",
            "Epoch 87/100\n",
            "137/137 [==============================] - 2s 17ms/step - loss: 0.0790 - accuracy: 0.9720 - val_loss: 5.6553 - val_accuracy: 0.5161\n",
            "Epoch 88/100\n",
            "137/137 [==============================] - 2s 15ms/step - loss: 0.0955 - accuracy: 0.9668 - val_loss: 5.7580 - val_accuracy: 0.5141\n",
            "Epoch 89/100\n",
            "137/137 [==============================] - 2s 16ms/step - loss: 0.1531 - accuracy: 0.9469 - val_loss: 5.6750 - val_accuracy: 0.5120\n",
            "Epoch 90/100\n",
            "137/137 [==============================] - 2s 14ms/step - loss: 0.1677 - accuracy: 0.9467 - val_loss: 5.7969 - val_accuracy: 0.5082\n",
            "Epoch 91/100\n",
            "137/137 [==============================] - 2s 16ms/step - loss: 0.1098 - accuracy: 0.9634 - val_loss: 5.7592 - val_accuracy: 0.5055\n",
            "Epoch 92/100\n",
            "137/137 [==============================] - 2s 17ms/step - loss: 0.0968 - accuracy: 0.9669 - val_loss: 5.9045 - val_accuracy: 0.5151\n",
            "Epoch 93/100\n",
            "137/137 [==============================] - 2s 15ms/step - loss: 0.1142 - accuracy: 0.9633 - val_loss: 5.8372 - val_accuracy: 0.5027\n",
            "Epoch 94/100\n",
            "137/137 [==============================] - 2s 14ms/step - loss: 0.1108 - accuracy: 0.9615 - val_loss: 5.8620 - val_accuracy: 0.5134\n",
            "Epoch 95/100\n",
            "137/137 [==============================] - 2s 16ms/step - loss: 0.1062 - accuracy: 0.9639 - val_loss: 5.8943 - val_accuracy: 0.5106\n",
            "Epoch 96/100\n",
            "137/137 [==============================] - 2s 14ms/step - loss: 0.1010 - accuracy: 0.9634 - val_loss: 5.8317 - val_accuracy: 0.5134\n",
            "Epoch 97/100\n",
            "137/137 [==============================] - 2s 14ms/step - loss: 0.0969 - accuracy: 0.9673 - val_loss: 5.9933 - val_accuracy: 0.4986\n",
            "Epoch 98/100\n",
            "137/137 [==============================] - 2s 17ms/step - loss: 0.1026 - accuracy: 0.9627 - val_loss: 5.8476 - val_accuracy: 0.5103\n",
            "Epoch 99/100\n",
            "137/137 [==============================] - 2s 15ms/step - loss: 0.0879 - accuracy: 0.9684 - val_loss: 5.9257 - val_accuracy: 0.5165\n",
            "Epoch 100/100\n",
            "137/137 [==============================] - 2s 14ms/step - loss: 0.1022 - accuracy: 0.9651 - val_loss: 5.9941 - val_accuracy: 0.5148\n"
          ]
        }
      ]
    },
    {
      "cell_type": "code",
      "execution_count": null,
      "metadata": {
        "id": "Yx-qA9KCB0xD",
        "colab": {
          "base_uri": "https://localhost:8080/",
          "height": 472
        },
        "outputId": "5d591c70-905b-4599-de17-f276a997131b"
      },
      "outputs": [
        {
          "output_type": "display_data",
          "data": {
            "text/plain": [
              "<Figure size 640x480 with 1 Axes>"
            ],
            "image/png": "[encoded data removed]"
          },
          "metadata": {}
        }
      ],
      "source": [
        "plt.plot(a2.history['loss'])\n",
        "plt.plot(a2.history['val_loss'])\n",
        "plt.title(' Loss vs Epoch')\n",
        "plt.xlabel('Epoch')\n",
        "plt.ylabel('Training Loss')\n",
        "plt.legend(['Training', 'Validation'], loc='upper right')\n",
        "\n",
        "plt.show()"
      ]
    },
    {
      "cell_type": "code",
      "source": [
        "\n",
        "plt.plot(a.history['loss'])\n",
        "plt.plot(a.history['val_loss'])"
      ],
      "metadata": {
        "id": "EyHlo1LahVwx",
        "colab": {
          "base_uri": "https://localhost:8080/",
          "height": 447
        },
        "outputId": "a4cdc07b-ec2a-4640-c3a4-5e1cc801de2c"
      },
      "execution_count": null,
      "outputs": [
        {
          "output_type": "execute_result",
          "data": {
            "text/plain": [
              "[<matplotlib.lines.Line2D at 0x7fb99bf568f0>]"
            ]
          },
          "metadata": {},
          "execution_count": 45
        },
        {
          "output_type": "display_data",
          "data": {
            "text/plain": [
              "<Figure size 640x480 with 1 Axes>"
            ],
            "image/png": "[encoded data removed]"
          },
          "metadata": {}
        }
      ]
    },
    {
      "cell_type": "code",
      "source": [
        "#Predicción Modelo 2\n",
        "\n",
        "# hacer predicciones en el conjunto de prueba\n",
        "Y_pred = Model2.predict(Xtest)\n",
        "\n",
        "# imprimir las predicciones\n",
        "print(Y_pred)"
      ],
      "metadata": {
        "id": "2yORixOlHefr",
        "colab": {
          "base_uri": "https://localhost:8080/"
        },
        "outputId": "6935abc2-73be-46bc-9ea2-fcb92973b884"
      },
      "execution_count": null,
      "outputs": [
        {
          "output_type": "stream",
          "name": "stdout",
          "text": [
            "92/92 [==============================] - 0s 1ms/step\n",
            "[[1.1443451e-10 1.7712606e-10 1.0272213e-10 ... 1.0891606e-10\n",
            "  2.7371560e-11 7.9156971e-06]\n",
            " [4.8145313e-27 9.8686831e-27 3.2339515e-27 ... 3.9897426e-27\n",
            "  1.0053121e-33 2.4985453e-28]\n",
            " [2.2222242e-22 1.3295096e-22 1.5510135e-22 ... 1.0038421e-22\n",
            "  6.6821958e-35 4.6344906e-26]\n",
            " ...\n",
            " [1.5929259e-20 1.0050483e-20 5.5759336e-21 ... 7.1632734e-21\n",
            "  1.4387315e-13 6.0301768e-12]\n",
            " [1.9808325e-15 7.7946042e-16 1.2015227e-15 ... 6.5585592e-16\n",
            "  8.4294440e-15 1.1605177e-19]\n",
            " [1.7745816e-13 1.9394402e-13 1.2732072e-13 ... 1.3905279e-13\n",
            "  8.7852007e-18 3.6256709e-11]]\n"
          ]
        }
      ]
    },
    {
      "cell_type": "code",
      "source": [
        "#Modelo 3\n",
        "\n",
        "import keras\n",
        "from keras import *\n",
        "from keras.layers import *\n",
        "\n",
        "Model3 = Sequential()\n",
        "\n",
        "Model3.add(Dense(100, input_shape=(Xtrain.shape[1],) , activation=\"relu\"))\n",
        "Model3.add(Dense(620, activation=\"relu\"))\n",
        "Dropout(0.4)\n",
        "Model3.add(Dense(80, activation=\"relu\"))\n",
        "Model3.add(Dense(22413, activation = \"softmax\")) \n",
        "\n",
        "Model3.compile(optimizer=\"adam\", loss=\"categorical_crossentropy\", metrics=[\"accuracy\"])"
      ],
      "metadata": {
        "id": "OAxlW5UBCDJ-"
      },
      "execution_count": null,
      "outputs": []
    },
    {
      "cell_type": "code",
      "source": [
        "a3=Model3.fit(Xtrain, Ytrain, epochs= 100 , validation_data=(Xval,Yval), batch_size=64)"
      ],
      "metadata": {
        "id": "t2JIztEWFjUE",
        "colab": {
          "base_uri": "https://localhost:8080/"
        },
        "outputId": "f393c972-0420-416c-e777-94b65c7db175"
      },
      "execution_count": null,
      "outputs": [
        {
          "output_type": "stream",
          "name": "stdout",
          "text": [
            "Epoch 1/100\n",
            "137/137 [==============================] - 4s 19ms/step - loss: 4.5889 - accuracy: 0.1549 - val_loss: 3.3357 - val_accuracy: 0.2675\n",
            "Epoch 2/100\n",
            "137/137 [==============================] - 2s 16ms/step - loss: 2.9709 - accuracy: 0.3078 - val_loss: 2.8865 - val_accuracy: 0.2912\n",
            "Epoch 3/100\n",
            "137/137 [==============================] - 2s 14ms/step - loss: 2.6309 - accuracy: 0.3587 - val_loss: 2.6266 - val_accuracy: 0.3733\n",
            "Epoch 4/100\n",
            "137/137 [==============================] - 2s 15ms/step - loss: 2.3868 - accuracy: 0.4060 - val_loss: 2.4293 - val_accuracy: 0.4172\n",
            "Epoch 5/100\n",
            "137/137 [==============================] - 2s 16ms/step - loss: 2.1777 - accuracy: 0.4330 - val_loss: 2.3052 - val_accuracy: 0.4310\n",
            "Epoch 6/100\n",
            "137/137 [==============================] - 2s 14ms/step - loss: 1.9979 - accuracy: 0.4709 - val_loss: 2.1782 - val_accuracy: 0.4578\n",
            "Epoch 7/100\n",
            "137/137 [==============================] - 2s 14ms/step - loss: 1.8739 - accuracy: 0.4855 - val_loss: 2.1125 - val_accuracy: 0.4708\n",
            "Epoch 8/100\n",
            "137/137 [==============================] - 2s 16ms/step - loss: 1.7520 - accuracy: 0.5090 - val_loss: 2.0750 - val_accuracy: 0.4749\n",
            "Epoch 9/100\n",
            "137/137 [==============================] - 2s 16ms/step - loss: 1.6726 - accuracy: 0.5278 - val_loss: 2.0139 - val_accuracy: 0.5007\n",
            "Epoch 10/100\n",
            "137/137 [==============================] - 2s 14ms/step - loss: 1.5820 - accuracy: 0.5424 - val_loss: 1.9569 - val_accuracy: 0.5127\n",
            "Epoch 11/100\n",
            "137/137 [==============================] - 2s 14ms/step - loss: 1.5137 - accuracy: 0.5498 - val_loss: 2.0297 - val_accuracy: 0.4815\n",
            "Epoch 12/100\n",
            "137/137 [==============================] - 2s 15ms/step - loss: 1.4494 - accuracy: 0.5660 - val_loss: 1.9376 - val_accuracy: 0.5182\n",
            "Epoch 13/100\n",
            "137/137 [==============================] - 2s 14ms/step - loss: 1.4033 - accuracy: 0.5766 - val_loss: 1.9593 - val_accuracy: 0.5127\n",
            "Epoch 14/100\n",
            "137/137 [==============================] - 2s 15ms/step - loss: 1.3360 - accuracy: 0.5877 - val_loss: 1.9563 - val_accuracy: 0.5185\n",
            "Epoch 15/100\n",
            "137/137 [==============================] - 2s 14ms/step - loss: 1.2891 - accuracy: 0.6044 - val_loss: 2.0014 - val_accuracy: 0.5148\n",
            "Epoch 16/100\n",
            "137/137 [==============================] - 2s 15ms/step - loss: 1.2484 - accuracy: 0.6144 - val_loss: 1.9845 - val_accuracy: 0.4945\n",
            "Epoch 17/100\n",
            "137/137 [==============================] - 2s 15ms/step - loss: 1.2251 - accuracy: 0.6123 - val_loss: 1.9432 - val_accuracy: 0.5282\n",
            "Epoch 18/100\n",
            "137/137 [==============================] - 2s 13ms/step - loss: 1.1759 - accuracy: 0.6244 - val_loss: 1.9757 - val_accuracy: 0.5278\n",
            "Epoch 19/100\n",
            "137/137 [==============================] - 2s 15ms/step - loss: 1.1365 - accuracy: 0.6391 - val_loss: 1.9512 - val_accuracy: 0.5343\n",
            "Epoch 20/100\n",
            "137/137 [==============================] - 2s 16ms/step - loss: 1.0891 - accuracy: 0.6510 - val_loss: 2.0218 - val_accuracy: 0.5240\n",
            "Epoch 21/100\n",
            "137/137 [==============================] - 2s 16ms/step - loss: 1.0510 - accuracy: 0.6606 - val_loss: 1.9787 - val_accuracy: 0.5316\n",
            "Epoch 22/100\n",
            "137/137 [==============================] - 2s 14ms/step - loss: 1.0331 - accuracy: 0.6597 - val_loss: 2.0922 - val_accuracy: 0.5216\n",
            "Epoch 23/100\n",
            "137/137 [==============================] - 2s 16ms/step - loss: 1.0029 - accuracy: 0.6701 - val_loss: 2.0552 - val_accuracy: 0.5292\n",
            "Epoch 24/100\n",
            "137/137 [==============================] - 2s 15ms/step - loss: 0.9637 - accuracy: 0.6781 - val_loss: 2.0862 - val_accuracy: 0.5306\n",
            "Epoch 25/100\n",
            "137/137 [==============================] - 2s 16ms/step - loss: 0.9230 - accuracy: 0.6986 - val_loss: 2.1124 - val_accuracy: 0.5288\n",
            "Epoch 26/100\n",
            "137/137 [==============================] - 2s 16ms/step - loss: 0.8862 - accuracy: 0.7033 - val_loss: 2.1498 - val_accuracy: 0.5306\n",
            "Epoch 27/100\n",
            "137/137 [==============================] - 2s 14ms/step - loss: 0.8640 - accuracy: 0.7079 - val_loss: 2.1725 - val_accuracy: 0.5264\n",
            "Epoch 28/100\n",
            "137/137 [==============================] - 2s 14ms/step - loss: 0.8368 - accuracy: 0.7161 - val_loss: 2.2336 - val_accuracy: 0.5288\n",
            "Epoch 29/100\n",
            "137/137 [==============================] - 2s 16ms/step - loss: 0.8277 - accuracy: 0.7178 - val_loss: 2.1959 - val_accuracy: 0.5340\n",
            "Epoch 30/100\n",
            "137/137 [==============================] - 2s 14ms/step - loss: 0.7755 - accuracy: 0.7348 - val_loss: 2.3048 - val_accuracy: 0.5234\n",
            "Epoch 31/100\n",
            "137/137 [==============================] - 2s 15ms/step - loss: 0.7591 - accuracy: 0.7390 - val_loss: 2.2678 - val_accuracy: 0.5312\n",
            "Epoch 32/100\n",
            "137/137 [==============================] - 2s 16ms/step - loss: 0.7326 - accuracy: 0.7470 - val_loss: 2.3588 - val_accuracy: 0.5333\n",
            "Epoch 33/100\n",
            "137/137 [==============================] - 2s 16ms/step - loss: 0.7122 - accuracy: 0.7581 - val_loss: 2.3767 - val_accuracy: 0.5367\n",
            "Epoch 34/100\n",
            "137/137 [==============================] - 2s 14ms/step - loss: 0.6798 - accuracy: 0.7637 - val_loss: 2.4313 - val_accuracy: 0.5240\n",
            "Epoch 35/100\n",
            "137/137 [==============================] - 2s 16ms/step - loss: 0.6447 - accuracy: 0.7771 - val_loss: 2.4577 - val_accuracy: 0.5378\n",
            "Epoch 36/100\n",
            "137/137 [==============================] - 2s 15ms/step - loss: 0.6426 - accuracy: 0.7747 - val_loss: 2.4883 - val_accuracy: 0.5374\n",
            "Epoch 37/100\n",
            "137/137 [==============================] - 2s 15ms/step - loss: 0.6219 - accuracy: 0.7855 - val_loss: 2.5471 - val_accuracy: 0.5378\n",
            "Epoch 38/100\n",
            "137/137 [==============================] - 2s 18ms/step - loss: 0.5956 - accuracy: 0.7935 - val_loss: 2.5621 - val_accuracy: 0.5275\n",
            "Epoch 39/100\n",
            "137/137 [==============================] - 2s 16ms/step - loss: 0.5633 - accuracy: 0.8035 - val_loss: 2.5965 - val_accuracy: 0.5412\n",
            "Epoch 40/100\n",
            "137/137 [==============================] - 2s 15ms/step - loss: 0.5612 - accuracy: 0.8044 - val_loss: 2.6623 - val_accuracy: 0.5340\n",
            "Epoch 41/100\n",
            "137/137 [==============================] - 2s 14ms/step - loss: 0.5321 - accuracy: 0.8127 - val_loss: 2.7255 - val_accuracy: 0.5347\n",
            "Epoch 42/100\n",
            "137/137 [==============================] - 2s 14ms/step - loss: 0.5148 - accuracy: 0.8212 - val_loss: 2.7578 - val_accuracy: 0.5326\n",
            "Epoch 43/100\n",
            "137/137 [==============================] - 2s 14ms/step - loss: 0.4987 - accuracy: 0.8262 - val_loss: 2.7914 - val_accuracy: 0.5244\n",
            "Epoch 44/100\n",
            "137/137 [==============================] - 2s 15ms/step - loss: 0.4887 - accuracy: 0.8280 - val_loss: 2.8301 - val_accuracy: 0.5323\n",
            "Epoch 45/100\n",
            "137/137 [==============================] - 3s 18ms/step - loss: 0.4722 - accuracy: 0.8360 - val_loss: 2.8960 - val_accuracy: 0.5288\n",
            "Epoch 46/100\n",
            "137/137 [==============================] - 2s 16ms/step - loss: 0.4497 - accuracy: 0.8442 - val_loss: 2.9823 - val_accuracy: 0.5251\n",
            "Epoch 47/100\n",
            "137/137 [==============================] - 3s 18ms/step - loss: 0.4343 - accuracy: 0.8520 - val_loss: 3.0447 - val_accuracy: 0.5251\n",
            "Epoch 48/100\n",
            "137/137 [==============================] - 2s 17ms/step - loss: 0.4241 - accuracy: 0.8516 - val_loss: 3.0873 - val_accuracy: 0.5364\n",
            "Epoch 49/100\n",
            "137/137 [==============================] - 2s 16ms/step - loss: 0.4115 - accuracy: 0.8602 - val_loss: 3.1020 - val_accuracy: 0.5330\n",
            "Epoch 50/100\n",
            "137/137 [==============================] - 2s 18ms/step - loss: 0.4070 - accuracy: 0.8559 - val_loss: 3.2297 - val_accuracy: 0.5216\n",
            "Epoch 51/100\n",
            "137/137 [==============================] - 2s 18ms/step - loss: 0.4016 - accuracy: 0.8554 - val_loss: 3.1825 - val_accuracy: 0.5395\n",
            "Epoch 52/100\n",
            "137/137 [==============================] - 2s 14ms/step - loss: 0.3870 - accuracy: 0.8671 - val_loss: 3.2265 - val_accuracy: 0.5316\n",
            "Epoch 53/100\n",
            "137/137 [==============================] - 2s 16ms/step - loss: 0.3545 - accuracy: 0.8790 - val_loss: 3.3307 - val_accuracy: 0.5134\n",
            "Epoch 54/100\n",
            "137/137 [==============================] - 2s 16ms/step - loss: 0.3481 - accuracy: 0.8758 - val_loss: 3.2667 - val_accuracy: 0.5402\n",
            "Epoch 55/100\n",
            "137/137 [==============================] - 2s 16ms/step - loss: 0.3206 - accuracy: 0.8914 - val_loss: 3.4611 - val_accuracy: 0.5206\n",
            "Epoch 56/100\n",
            "137/137 [==============================] - 2s 14ms/step - loss: 0.3228 - accuracy: 0.8909 - val_loss: 3.4575 - val_accuracy: 0.5405\n",
            "Epoch 57/100\n",
            "137/137 [==============================] - 2s 15ms/step - loss: 0.3073 - accuracy: 0.8913 - val_loss: 3.4995 - val_accuracy: 0.5347\n",
            "Epoch 58/100\n",
            "137/137 [==============================] - 2s 16ms/step - loss: 0.3004 - accuracy: 0.8956 - val_loss: 3.5684 - val_accuracy: 0.5264\n",
            "Epoch 59/100\n",
            "137/137 [==============================] - 2s 14ms/step - loss: 0.3040 - accuracy: 0.8927 - val_loss: 3.6791 - val_accuracy: 0.5203\n",
            "Epoch 60/100\n",
            "137/137 [==============================] - 2s 14ms/step - loss: 0.2848 - accuracy: 0.9044 - val_loss: 3.7072 - val_accuracy: 0.5275\n",
            "Epoch 61/100\n",
            "137/137 [==============================] - 2s 16ms/step - loss: 0.2974 - accuracy: 0.8979 - val_loss: 3.7464 - val_accuracy: 0.5182\n",
            "Epoch 62/100\n",
            "137/137 [==============================] - 2s 14ms/step - loss: 0.2614 - accuracy: 0.9106 - val_loss: 3.8293 - val_accuracy: 0.5374\n",
            "Epoch 63/100\n",
            "137/137 [==============================] - 2s 16ms/step - loss: 0.2687 - accuracy: 0.9052 - val_loss: 3.8668 - val_accuracy: 0.5220\n",
            "Epoch 64/100\n",
            "137/137 [==============================] - 2s 15ms/step - loss: 0.2588 - accuracy: 0.9088 - val_loss: 3.8869 - val_accuracy: 0.5302\n",
            "Epoch 65/100\n",
            "137/137 [==============================] - 2s 15ms/step - loss: 0.2513 - accuracy: 0.9117 - val_loss: 3.9373 - val_accuracy: 0.5333\n",
            "Epoch 66/100\n",
            "137/137 [==============================] - 2s 14ms/step - loss: 0.2338 - accuracy: 0.9179 - val_loss: 4.0361 - val_accuracy: 0.5185\n",
            "Epoch 67/100\n",
            "137/137 [==============================] - 2s 15ms/step - loss: 0.2562 - accuracy: 0.9122 - val_loss: 4.0654 - val_accuracy: 0.5209\n",
            "Epoch 68/100\n",
            "137/137 [==============================] - 2s 16ms/step - loss: 0.2461 - accuracy: 0.9169 - val_loss: 4.1937 - val_accuracy: 0.5175\n",
            "Epoch 69/100\n",
            "137/137 [==============================] - 2s 15ms/step - loss: 0.2309 - accuracy: 0.9184 - val_loss: 4.2621 - val_accuracy: 0.5299\n",
            "Epoch 70/100\n",
            "137/137 [==============================] - 2s 14ms/step - loss: 0.2245 - accuracy: 0.9209 - val_loss: 4.1989 - val_accuracy: 0.5354\n",
            "Epoch 71/100\n",
            "137/137 [==============================] - 2s 14ms/step - loss: 0.2047 - accuracy: 0.9305 - val_loss: 4.2984 - val_accuracy: 0.5409\n",
            "Epoch 72/100\n",
            "137/137 [==============================] - 2s 15ms/step - loss: 0.2178 - accuracy: 0.9227 - val_loss: 4.3111 - val_accuracy: 0.5326\n",
            "Epoch 73/100\n",
            "137/137 [==============================] - 2s 16ms/step - loss: 0.2037 - accuracy: 0.9293 - val_loss: 4.3631 - val_accuracy: 0.5196\n",
            "Epoch 74/100\n",
            "137/137 [==============================] - 2s 14ms/step - loss: 0.2079 - accuracy: 0.9262 - val_loss: 4.4118 - val_accuracy: 0.5234\n",
            "Epoch 75/100\n",
            "137/137 [==============================] - 2s 14ms/step - loss: 0.2200 - accuracy: 0.9220 - val_loss: 4.4216 - val_accuracy: 0.5165\n",
            "Epoch 76/100\n",
            "137/137 [==============================] - 2s 15ms/step - loss: 0.2024 - accuracy: 0.9314 - val_loss: 4.4373 - val_accuracy: 0.5361\n",
            "Epoch 77/100\n",
            "137/137 [==============================] - 2s 15ms/step - loss: 0.1875 - accuracy: 0.9357 - val_loss: 4.6174 - val_accuracy: 0.5323\n",
            "Epoch 78/100\n",
            "137/137 [==============================] - 2s 14ms/step - loss: 0.2162 - accuracy: 0.9247 - val_loss: 4.6642 - val_accuracy: 0.5337\n",
            "Epoch 79/100\n",
            "137/137 [==============================] - 2s 16ms/step - loss: 0.1849 - accuracy: 0.9367 - val_loss: 4.5937 - val_accuracy: 0.5295\n",
            "Epoch 80/100\n",
            "137/137 [==============================] - 2s 16ms/step - loss: 0.1782 - accuracy: 0.9415 - val_loss: 4.7922 - val_accuracy: 0.5137\n",
            "Epoch 81/100\n",
            "137/137 [==============================] - 2s 14ms/step - loss: 0.1772 - accuracy: 0.9382 - val_loss: 4.7749 - val_accuracy: 0.5234\n",
            "Epoch 82/100\n",
            "137/137 [==============================] - 2s 14ms/step - loss: 0.1790 - accuracy: 0.9382 - val_loss: 4.7185 - val_accuracy: 0.5385\n",
            "Epoch 83/100\n",
            "137/137 [==============================] - 2s 15ms/step - loss: 0.1758 - accuracy: 0.9373 - val_loss: 4.7930 - val_accuracy: 0.5323\n",
            "Epoch 84/100\n",
            "137/137 [==============================] - 2s 15ms/step - loss: 0.1809 - accuracy: 0.9353 - val_loss: 4.8487 - val_accuracy: 0.5206\n",
            "Epoch 85/100\n",
            "137/137 [==============================] - 2s 16ms/step - loss: 0.1646 - accuracy: 0.9435 - val_loss: 4.8627 - val_accuracy: 0.5354\n",
            "Epoch 86/100\n",
            "137/137 [==============================] - 2s 16ms/step - loss: 0.1670 - accuracy: 0.9412 - val_loss: 4.9384 - val_accuracy: 0.5247\n",
            "Epoch 87/100\n",
            "137/137 [==============================] - 2s 14ms/step - loss: 0.1509 - accuracy: 0.9465 - val_loss: 5.0490 - val_accuracy: 0.5306\n",
            "Epoch 88/100\n",
            "137/137 [==============================] - 2s 14ms/step - loss: 0.1758 - accuracy: 0.9409 - val_loss: 4.9943 - val_accuracy: 0.5199\n",
            "Epoch 89/100\n",
            "137/137 [==============================] - 2s 13ms/step - loss: 0.1698 - accuracy: 0.9378 - val_loss: 5.1478 - val_accuracy: 0.5237\n",
            "Epoch 90/100\n",
            "137/137 [==============================] - 2s 13ms/step - loss: 0.1521 - accuracy: 0.9488 - val_loss: 5.1182 - val_accuracy: 0.5292\n",
            "Epoch 91/100\n",
            "137/137 [==============================] - 2s 16ms/step - loss: 0.1371 - accuracy: 0.9519 - val_loss: 5.1708 - val_accuracy: 0.5343\n",
            "Epoch 92/100\n",
            "137/137 [==============================] - 2s 15ms/step - loss: 0.1598 - accuracy: 0.9446 - val_loss: 5.2615 - val_accuracy: 0.5158\n",
            "Epoch 93/100\n",
            "137/137 [==============================] - 2s 14ms/step - loss: 0.1773 - accuracy: 0.9384 - val_loss: 5.1932 - val_accuracy: 0.5323\n",
            "Epoch 94/100\n",
            "137/137 [==============================] - 2s 14ms/step - loss: 0.1448 - accuracy: 0.9497 - val_loss: 5.1755 - val_accuracy: 0.5347\n",
            "Epoch 95/100\n",
            "137/137 [==============================] - 2s 15ms/step - loss: 0.1219 - accuracy: 0.9599 - val_loss: 5.2273 - val_accuracy: 0.5398\n",
            "Epoch 96/100\n",
            "137/137 [==============================] - 2s 13ms/step - loss: 0.1230 - accuracy: 0.9573 - val_loss: 5.2773 - val_accuracy: 0.5354\n",
            "Epoch 97/100\n",
            "137/137 [==============================] - 2s 16ms/step - loss: 0.1357 - accuracy: 0.9563 - val_loss: 5.4483 - val_accuracy: 0.5268\n",
            "Epoch 98/100\n",
            "137/137 [==============================] - 2s 15ms/step - loss: 0.1468 - accuracy: 0.9510 - val_loss: 5.5493 - val_accuracy: 0.5144\n",
            "Epoch 99/100\n",
            "137/137 [==============================] - 2s 14ms/step - loss: 0.1533 - accuracy: 0.9428 - val_loss: 5.5146 - val_accuracy: 0.5165\n",
            "Epoch 100/100\n",
            "137/137 [==============================] - 2s 16ms/step - loss: 0.1563 - accuracy: 0.9444 - val_loss: 5.5467 - val_accuracy: 0.5134\n"
          ]
        }
      ]
    },
    {
      "cell_type": "code",
      "source": [
        "#Predicción Modelo 3\n",
        "\n",
        "# hacer predicciones en el conjunto de prueba\n",
        "Y_pred = Model3.predict(Xtest)\n",
        "\n",
        "# imprimir las predicciones\n",
        "print(Y_pred)"
      ],
      "metadata": {
        "id": "lv2fn0P93Pq6",
        "colab": {
          "base_uri": "https://localhost:8080/"
        },
        "outputId": "bc339ebb-1acd-440b-f597-37f2b886079c"
      },
      "execution_count": null,
      "outputs": [
        {
          "output_type": "stream",
          "name": "stdout",
          "text": [
            "92/92 [==============================] - 0s 1ms/step\n",
            "[[1.8645659e-10 9.6611989e-11 1.3983770e-10 ... 2.0939539e-10\n",
            "  9.4029489e-12 1.1848139e-08]\n",
            " [9.8021540e-31 1.1929671e-30 4.7036993e-31 ... 1.1546060e-30\n",
            "  0.0000000e+00 4.6740077e-31]\n",
            " [2.1610885e-32 4.8320943e-33 8.5850739e-33 ... 4.4554610e-32\n",
            "  0.0000000e+00 3.7895236e-36]\n",
            " ...\n",
            " [3.6708333e-24 1.4084201e-23 2.8186083e-24 ... 1.1120884e-23\n",
            "  3.3788781e-14 3.2236154e-09]\n",
            " [2.0638085e-17 2.1649495e-17 3.9786114e-17 ... 2.3905272e-18\n",
            "  1.5056346e-18 1.6236751e-14]\n",
            " [4.5211206e-13 4.0854269e-13 2.1456661e-13 ... 6.7878597e-13\n",
            "  1.5367331e-12 3.9994088e-08]]\n"
          ]
        }
      ]
    },
    {
      "cell_type": "markdown",
      "source": [
        "Árbol de decisión"
      ],
      "metadata": {
        "id": "y67MyLoAYtQi"
      }
    },
    {
      "cell_type": "code",
      "source": [
        "from sklearn.tree import DecisionTreeClassifier\n",
        "from sklearn.metrics import accuracy_score\n",
        "\n",
        "arbol = DecisionTreeClassifier()\n",
        "arbol.fit(Xtrain, Ytrain)\n",
        "\n",
        "# hacer predicciones en el conjunto de prueba\n",
        "Ypred = arbol.predict(Xtest)\n",
        "\n",
        "# calcular la precisión de las predicciones\n",
        "accuracy = accuracy_score(Ytest, Ypred)\n",
        "print('Precisión: {:.2f}'.format(accuracy))"
      ],
      "metadata": {
        "id": "EnKxaBZORGAF",
        "colab": {
          "base_uri": "https://localhost:8080/"
        },
        "outputId": "79767690-2eca-451d-e88a-bba0d38d4cb5"
      },
      "execution_count": null,
      "outputs": [
        {
          "output_type": "stream",
          "name": "stdout",
          "text": [
            "Precisión: 0.81\n"
          ]
        }
      ]
    },
    {
      "cell_type": "markdown",
      "source": [
        "SVM"
      ],
      "metadata": {
        "id": "kMBtpAb9RAUU"
      }
    },
    {
      "cell_type": "code",
      "source": [
        "from sklearn.svm import SVC\n",
        "\n",
        "X_train, X_test, y_train, y_test = train_test_split(X, y, test_size=0.3, random_state=1)\n",
        "\n",
        "# Crea un objeto SVM y especifica el kernel utilizado\n",
        "svm = SVC(kernel='linear')\n",
        "\n",
        "# Entrena el modelo SVM utilizando los datos de entrenamiento\n",
        "svm.fit(Xtrain, Ytrain)"
      ],
      "metadata": {
        "id": "h6ijk02iOW4N"
      },
      "execution_count": null,
      "outputs": []
    },
    {
      "cell_type": "code",
      "source": [
        "y_pred = svm.predict(X_test)\n",
        "accuracy = accuracy_score(y_test, y_pred)\n",
        "print('Exactitud: {:.2f}'.format(accuracy))"
      ],
      "metadata": {
        "id": "9a83-Y-hRScM"
      },
      "execution_count": null,
      "outputs": []
    },
    {
      "cell_type": "markdown",
      "source": [
        "SHAP"
      ],
      "metadata": {
        "id": "5ZquHMHV6whR"
      }
    },
    {
      "cell_type": "code",
      "source": [
        "!pip install shap"
      ],
      "metadata": {
        "id": "iJuWoiJtD0PS"
      },
      "execution_count": null,
      "outputs": []
    },
    {
      "cell_type": "code",
      "source": [
        "import shap\n",
        "\n",
        "explainer = shap.KernelExplainer(Model.predict, Xtrain)\n",
        "# Calcula los valores shap\n",
        "shap_values = explainer.shap_values(Xtest)\n",
        "\n",
        "shap.force_plot(explainer.expected_value, shap_values[0,:], Xtest[0,:])"
      ],
      "metadata": {
        "id": "Tycs0vEt6v-d"
      },
      "execution_count": null,
      "outputs": []
    }
  ],
  "metadata": {
    "accelerator": "GPU",
    "colab": {
      "provenance": []
    },
    "gpuClass": "standard",
    "kernelspec": {
      "display_name": "Python 3",
      "name": "python3"
    },
    "language_info": {
      "name": "python"
    }
  },
  "nbformat": 4,
  "nbformat_minor": 0
}